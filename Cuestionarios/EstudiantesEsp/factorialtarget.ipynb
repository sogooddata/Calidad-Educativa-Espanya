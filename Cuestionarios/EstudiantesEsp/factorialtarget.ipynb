{
 "cells": [
  {
   "cell_type": "markdown",
   "metadata": {},
   "source": [
    "# Cálculo de las variables TARGET\n",
    "### Se van a generar 4 variables que usaremos como TARGET en el modelo predictivo, que son las competencias que tiene cada alumno, en Matemáticas, Ciencia, Lectura y Global.\n",
    "### El cuestionario PISA tiene calculadas estas competencias como 10 variables plausibles, para Matemáticas, Ciencia y Global y 40 para Lectura, ya que en 2018, se centro en la lectura.\n",
    "### En las propias instrucciones PISA desaconsejan utilizar como valor de la competencia como una media de estas 10 variables pausibles: https://www.oecd.org/pisa/data/httpoecdorgpisadatabase-instructions.htm\n",
    "### Es por este motivo que nos hemos decantado por por hacer un análisis factorial de las variables en su cojunto, para luego utilizar los 4 primeros factores como estas competencias\n",
    "### Utilizaremos 2 métodos de analisis factorial, uno sin rotación, y otro con rotación varimax, por lo que obtendremos 8 target, más adelante cuando se realice el modelo, utilizaremos definitivamente, los target calculados con un método o con otro"
   ]
  },
  {
   "cell_type": "code",
   "execution_count": 1,
   "metadata": {},
   "outputs": [],
   "source": [
    "##LECTURA DEL FICHERO SPSS Y SUS METADATOS\n",
    "##Debe estar instalado el paquete de pyreadstat que permite leer ficheros SPSS y SAS\n",
    "import pyreadstat\n",
    "import pandas as pd\n",
    "import numpy as np\n",
    "import matplotlib\n",
    "import matplotlib.pyplot as plt\n",
    "from sklearn.datasets import load_iris\n",
    "from factor_analyzer import FactorAnalyzer\n",
    "%matplotlib inline\n",
    "matplotlib.style.use('ggplot')"
   ]
  },
  {
   "cell_type": "code",
   "execution_count": 2,
   "metadata": {},
   "outputs": [],
   "source": [
    "df, meta = pyreadstat.pyreadstat.read_sav('estudiantesESP1.sav')"
   ]
  },
  {
   "cell_type": "code",
   "execution_count": 3,
   "metadata": {},
   "outputs": [],
   "source": [
    "#Columnas plausibles\n",
    "d1 = df.iloc[:, 1026:1096]"
   ]
  },
  {
   "cell_type": "code",
   "execution_count": 4,
   "metadata": {},
   "outputs": [
    {
     "data": {
      "text/plain": [
       "PV1MATH     462.846\n",
       "PV2MATH     479.586\n",
       "PV3MATH     404.056\n",
       "PV4MATH     447.710\n",
       "PV5MATH     517.438\n",
       "             ...   \n",
       "PV6RCER     411.543\n",
       "PV7RCER     455.602\n",
       "PV8RCER     436.687\n",
       "PV9RCER     418.236\n",
       "PV10RCER    444.082\n",
       "Name: 0, Length: 70, dtype: float64"
      ]
     },
     "execution_count": 4,
     "metadata": {},
     "output_type": "execute_result"
    }
   ],
   "source": [
    "#d1.dropna(inplace=True)\n",
    "d1.loc[0]"
   ]
  },
  {
   "cell_type": "code",
   "execution_count": 5,
   "metadata": {},
   "outputs": [
    {
     "data": {
      "text/plain": [
       "0.9945136074889883"
      ]
     },
     "execution_count": 5,
     "metadata": {},
     "output_type": "execute_result"
    }
   ],
   "source": [
    "from factor_analyzer.factor_analyzer import calculate_kmo\n",
    "kmo_all,kmo_model=calculate_kmo(d1)\n",
    "kmo_model"
   ]
  },
  {
   "cell_type": "markdown",
   "metadata": {},
   "source": [
    "# Método sin rotación"
   ]
  },
  {
   "cell_type": "code",
   "execution_count": 6,
   "metadata": {},
   "outputs": [
    {
     "data": {
      "text/plain": [
       "array([5.53120720e+01, 2.19798145e+00, 1.07086604e+00, 6.92929505e-01,\n",
       "       4.46049299e-01, 4.21046716e-01, 2.94260996e-01, 2.86953248e-01,\n",
       "       2.85955281e-01, 2.82871478e-01, 2.81045717e-01, 2.76469566e-01,\n",
       "       2.73036117e-01, 2.71186446e-01, 2.67891586e-01, 2.66573539e-01,\n",
       "       2.60182889e-01, 2.58247936e-01, 2.57161296e-01, 2.54200667e-01,\n",
       "       2.52639653e-01, 2.52534599e-01, 2.49146716e-01, 2.45103493e-01,\n",
       "       2.20587371e-01, 1.84446705e-01, 1.81618947e-01, 1.75425385e-01,\n",
       "       1.72635592e-01, 1.71257491e-01, 1.68690849e-01, 1.61807152e-01,\n",
       "       1.60586876e-01, 1.56573719e-01, 1.41775005e-01, 1.40710676e-01,\n",
       "       1.37160905e-01, 1.36375618e-01, 1.33400355e-01, 1.29930151e-01,\n",
       "       1.27080667e-01, 1.25396443e-01, 1.20740233e-01, 1.19754082e-01,\n",
       "       1.17721572e-01, 1.14765179e-01, 1.12735751e-01, 1.09934896e-01,\n",
       "       1.08120206e-01, 1.04454593e-01, 1.01528783e-01, 9.17010854e-02,\n",
       "       6.99930080e-02, 6.97383422e-02, 6.80185200e-02, 6.73924887e-02,\n",
       "       6.68003137e-02, 6.53113355e-02, 6.52485739e-02, 6.39003973e-02,\n",
       "       6.33058060e-02, 6.26422024e-02, 6.19514870e-02, 6.11757402e-02,\n",
       "       6.06460505e-02, 5.81930209e-02, 5.55701236e-02, 5.49724197e-02,\n",
       "       5.11769894e-02, 5.06406713e-02])"
      ]
     },
     "execution_count": 6,
     "metadata": {},
     "output_type": "execute_result"
    }
   ],
   "source": [
    "# Create factor analysis object and perform factor analysis\n",
    "fa = FactorAnalyzer()\n",
    "fa.set_params(n_factors=4)\n",
    "#fa.analyze(df, 25, rotation=None)\n",
    "fa.fit(d1)\n",
    "# Check Eigenvalues\n",
    "ev, v = fa.get_eigenvalues()\n",
    "ev"
   ]
  },
  {
   "cell_type": "code",
   "execution_count": 7,
   "metadata": {},
   "outputs": [
    {
     "data": {
      "text/plain": [
       "4"
      ]
     },
     "execution_count": 7,
     "metadata": {},
     "output_type": "execute_result"
    }
   ],
   "source": [
    "fa.n_factors"
   ]
  },
  {
   "cell_type": "code",
   "execution_count": 8,
   "metadata": {},
   "outputs": [
    {
     "data": {
      "image/png": "[encoded data removed]",
      "text/plain": [
       "<Figure size 432x288 with 1 Axes>"
      ]
     },
     "metadata": {},
     "output_type": "display_data"
    }
   ],
   "source": [
    "# Create scree plot using matplotlib\n",
    "plt.scatter(range(1,d1.shape[1]+1),ev)\n",
    "plt.plot(range(1,d1.shape[1]+1),ev)\n",
    "plt.title('Scree Plot')\n",
    "plt.xlabel('Factors')\n",
    "plt.ylabel('Eigenvalue')\n",
    "plt.grid()\n",
    "plt.show()"
   ]
  },
  {
   "cell_type": "code",
   "execution_count": 9,
   "metadata": {},
   "outputs": [],
   "source": [
    "ev_aux=ev[1:70]"
   ]
  },
  {
   "cell_type": "code",
   "execution_count": 10,
   "metadata": {},
   "outputs": [
    {
     "data": {
      "text/plain": [
       "array([5.53120720e+01, 2.19798145e+00, 1.07086604e+00, 6.92929505e-01,\n",
       "       4.46049299e-01, 4.21046716e-01, 2.94260996e-01, 2.86953248e-01,\n",
       "       2.85955281e-01, 2.82871478e-01, 2.81045717e-01, 2.76469566e-01,\n",
       "       2.73036117e-01, 2.71186446e-01, 2.67891586e-01, 2.66573539e-01,\n",
       "       2.60182889e-01, 2.58247936e-01, 2.57161296e-01, 2.54200667e-01,\n",
       "       2.52639653e-01, 2.52534599e-01, 2.49146716e-01, 2.45103493e-01,\n",
       "       2.20587371e-01, 1.84446705e-01, 1.81618947e-01, 1.75425385e-01,\n",
       "       1.72635592e-01, 1.71257491e-01, 1.68690849e-01, 1.61807152e-01,\n",
       "       1.60586876e-01, 1.56573719e-01, 1.41775005e-01, 1.40710676e-01,\n",
       "       1.37160905e-01, 1.36375618e-01, 1.33400355e-01, 1.29930151e-01,\n",
       "       1.27080667e-01, 1.25396443e-01, 1.20740233e-01, 1.19754082e-01,\n",
       "       1.17721572e-01, 1.14765179e-01, 1.12735751e-01, 1.09934896e-01,\n",
       "       1.08120206e-01, 1.04454593e-01, 1.01528783e-01, 9.17010854e-02,\n",
       "       6.99930080e-02, 6.97383422e-02, 6.80185200e-02, 6.73924887e-02,\n",
       "       6.68003137e-02, 6.53113355e-02, 6.52485739e-02, 6.39003973e-02,\n",
       "       6.33058060e-02, 6.26422024e-02, 6.19514870e-02, 6.11757402e-02,\n",
       "       6.06460505e-02, 5.81930209e-02, 5.55701236e-02, 5.49724197e-02,\n",
       "       5.11769894e-02, 5.06406713e-02])"
      ]
     },
     "execution_count": 10,
     "metadata": {},
     "output_type": "execute_result"
    }
   ],
   "source": [
    "ev"
   ]
  },
  {
   "cell_type": "code",
   "execution_count": 11,
   "metadata": {},
   "outputs": [
    {
     "data": {
      "image/png": "[encoded data removed]",
      "text/plain": [
       "<Figure size 432x288 with 1 Axes>"
      ]
     },
     "metadata": {},
     "output_type": "display_data"
    }
   ],
   "source": [
    "plt.scatter(range(1,d1.shape[1]),ev_aux)\n",
    "plt.plot(range(1,d1.shape[1]),ev_aux)\n",
    "plt.title('Scree Plot')\n",
    "plt.xlabel('Factors')\n",
    "plt.ylabel('Eigenvalue')\n",
    "plt.grid()\n",
    "plt.show()"
   ]
  },
  {
   "cell_type": "code",
   "execution_count": 12,
   "metadata": {},
   "outputs": [
    {
     "data": {
      "text/plain": [
       "(70, 4)"
      ]
     },
     "execution_count": 12,
     "metadata": {},
     "output_type": "execute_result"
    }
   ],
   "source": [
    "fa.loadings_.shape"
   ]
  },
  {
   "cell_type": "markdown",
   "metadata": {},
   "source": [
    "### Factor de Lectura: El primer factor tiene sentido que sea el de Lectura, ya que coincide su peso con las variables plausibles dedicadas a la Lectura"
   ]
  },
  {
   "cell_type": "code",
   "execution_count": 13,
   "metadata": {},
   "outputs": [
    {
     "data": {
      "text/plain": [
       "<BarContainer object of 70 artists>"
      ]
     },
     "execution_count": 13,
     "metadata": {},
     "output_type": "execute_result"
    },
    {
     "data": {
      "image/png": "[encoded data removed]",
      "text/plain": [
       "<Figure size 432x288 with 1 Axes>"
      ]
     },
     "metadata": {},
     "output_type": "display_data"
    }
   ],
   "source": [
    "mapeado=range(70)\n",
    "plt.bar([x+0.2 for x in mapeado],fa.loadings_.transpose()[0])"
   ]
  },
  {
   "cell_type": "markdown",
   "metadata": {},
   "source": [
    "### Factor de Matemáticas: El segundo factor tiene sentido que sea el de Matemáticas, ya que coincide su peso con las variables plausibles dedicadas a Matemáticas"
   ]
  },
  {
   "cell_type": "code",
   "execution_count": 14,
   "metadata": {},
   "outputs": [
    {
     "data": {
      "text/plain": [
       "<BarContainer object of 70 artists>"
      ]
     },
     "execution_count": 14,
     "metadata": {},
     "output_type": "execute_result"
    },
    {
     "data": {
      "image/png": "[encoded data removed]",
      "text/plain": [
       "<Figure size 432x288 with 1 Axes>"
      ]
     },
     "metadata": {},
     "output_type": "display_data"
    }
   ],
   "source": [
    "mapeado=range(70)\n",
    "plt.bar([x+0.2 for x in mapeado],fa.loadings_.transpose()[1])"
   ]
  },
  {
   "cell_type": "markdown",
   "metadata": {},
   "source": [
    "### Factor de Competencia global: El tercer factor tiene sentido que sea el de Competencía Global, ya que coincide su peso con las variables plausibles dedicadas a Competencía Global"
   ]
  },
  {
   "cell_type": "code",
   "execution_count": 15,
   "metadata": {},
   "outputs": [
    {
     "data": {
      "text/plain": [
       "<BarContainer object of 70 artists>"
      ]
     },
     "execution_count": 15,
     "metadata": {},
     "output_type": "execute_result"
    },
    {
     "data": {
      "image/png": "[encoded data removed]",
      "text/plain": [
       "<Figure size 432x288 with 1 Axes>"
      ]
     },
     "metadata": {},
     "output_type": "display_data"
    }
   ],
   "source": [
    "mapeado=range(70)\n",
    "plt.bar([x+0.2 for x in mapeado],fa.loadings_.transpose()[2])"
   ]
  },
  {
   "cell_type": "markdown",
   "metadata": {},
   "source": [
    "### Factor de Competencia ciencia: El cuarto factor tiene sentido que sea el de Ciencias, ya que coincide su peso con las variables plausibles dedicadas a Ciencia"
   ]
  },
  {
   "cell_type": "code",
   "execution_count": 16,
   "metadata": {},
   "outputs": [
    {
     "data": {
      "text/plain": [
       "<BarContainer object of 70 artists>"
      ]
     },
     "execution_count": 16,
     "metadata": {},
     "output_type": "execute_result"
    },
    {
     "data": {
      "image/png": "[encoded data removed]",
      "text/plain": [
       "<Figure size 432x288 with 1 Axes>"
      ]
     },
     "metadata": {},
     "output_type": "display_data"
    }
   ],
   "source": [
    "mapeado=range(70)\n",
    "plt.bar([x+0.2 for x in mapeado],fa.loadings_.transpose()[3])"
   ]
  },
  {
   "cell_type": "code",
   "execution_count": 17,
   "metadata": {},
   "outputs": [
    {
     "data": {
      "text/plain": [
       "array([[ 1.00245568e-01,  7.71992483e-01,  2.12211362e-02,\n",
       "         2.70144191e-02],\n",
       "       [ 9.10419308e-02,  7.83545148e-01,  2.10075468e-03,\n",
       "         4.16518279e-02],\n",
       "       [ 9.75977855e-02,  7.71193689e-01,  5.79731957e-02,\n",
       "        -5.31484470e-03],\n",
       "       [ 6.10883639e-02,  7.89481311e-01,  5.89141167e-02,\n",
       "         8.94405218e-03],\n",
       "       [ 1.09143058e-01,  7.90408215e-01,  3.40555430e-03,\n",
       "         1.39182420e-02],\n",
       "       [ 7.99202641e-02,  7.85803069e-01,  6.33833618e-03,\n",
       "         3.99535133e-02],\n",
       "       [ 8.60797735e-02,  8.05041278e-01,  1.44219041e-02,\n",
       "         7.67799736e-03],\n",
       "       [ 1.18130455e-01,  7.64294929e-01,  4.16062955e-02,\n",
       "        -7.60964777e-03],\n",
       "       [ 7.44811720e-02,  7.85874818e-01,  4.58869472e-02,\n",
       "         1.12704216e-02],\n",
       "       [ 6.18953062e-02,  7.83075499e-01,  6.41875573e-02,\n",
       "         1.22930976e-02],\n",
       "       [ 8.01596150e-01,  1.12279879e-02,  1.14768702e-01,\n",
       "         4.67733494e-02],\n",
       "       [ 8.09709183e-01,  1.43027046e-02,  1.14624849e-01,\n",
       "         3.37511357e-02],\n",
       "       [ 7.98689205e-01,  1.63149851e-02,  1.14292097e-01,\n",
       "         4.65358219e-02],\n",
       "       [ 8.05403025e-01,  1.52000388e-02,  1.14270073e-01,\n",
       "         3.89050183e-02],\n",
       "       [ 8.01946428e-01,  2.43798896e-02,  1.14099593e-01,\n",
       "         3.44638474e-02],\n",
       "       [ 8.11886790e-01,  1.95702770e-02,  1.00393211e-01,\n",
       "         3.90859273e-02],\n",
       "       [ 8.02095683e-01,  1.22149088e-02,  1.22871059e-01,\n",
       "         3.63501049e-02],\n",
       "       [ 8.06279964e-01,  1.46730739e-02,  1.10695841e-01,\n",
       "         4.18632112e-02],\n",
       "       [ 8.05684469e-01,  1.62250805e-02,  1.12343165e-01,\n",
       "         3.94434082e-02],\n",
       "       [ 8.02520334e-01,  1.84289323e-02,  1.10024138e-01,\n",
       "         4.21793936e-02],\n",
       "       [ 1.09783484e-01,  2.31195927e-01,  7.88928300e-02,\n",
       "         5.47783673e-01],\n",
       "       [ 1.30197577e-01,  2.04668217e-01,  6.81354970e-02,\n",
       "         5.67033647e-01],\n",
       "       [ 1.36360668e-01,  1.95487275e-01,  7.14103029e-02,\n",
       "         5.66999759e-01],\n",
       "       [ 1.01109533e-01,  2.07714349e-01,  1.17716151e-01,\n",
       "         5.48712381e-01],\n",
       "       [ 1.36009058e-01,  2.05375608e-01,  8.58744892e-02,\n",
       "         5.45640893e-01],\n",
       "       [ 1.28360797e-01,  1.93270566e-01,  5.70068477e-02,\n",
       "         5.87864998e-01],\n",
       "       [ 1.38479361e-01,  2.06409518e-01,  8.63576869e-02,\n",
       "         5.40584633e-01],\n",
       "       [ 1.27661077e-01,  2.15856274e-01,  6.71638394e-02,\n",
       "         5.59397421e-01],\n",
       "       [ 1.18961223e-01,  2.11556728e-01,  6.88136049e-02,\n",
       "         5.73637309e-01],\n",
       "       [ 1.18968059e-01,  2.03276439e-01,  6.38619200e-02,\n",
       "         5.81412727e-01],\n",
       "       [ 2.22359549e-01,  1.06950108e-01,  6.20772176e-01,\n",
       "         1.02208405e-02],\n",
       "       [ 2.27552734e-01,  8.00121550e-02,  5.90864195e-01,\n",
       "         5.72390837e-02],\n",
       "       [ 2.32146229e-01,  7.51484114e-02,  6.31261101e-01,\n",
       "         2.19612725e-02],\n",
       "       [ 1.84657429e-01,  8.69251518e-02,  6.24688891e-01,\n",
       "         5.60665603e-02],\n",
       "       [ 2.01322185e-01,  9.38427536e-02,  6.46183370e-01,\n",
       "         1.22677549e-02],\n",
       "       [ 2.06267733e-01,  9.36324586e-02,  6.08558871e-01,\n",
       "         4.65574875e-02],\n",
       "       [ 2.19350286e-01,  1.01005597e-01,  6.09522694e-01,\n",
       "         2.61044870e-02],\n",
       "       [ 2.69065604e-01,  3.84458262e-02,  6.17529232e-01,\n",
       "         2.36272849e-02],\n",
       "       [ 1.72427763e-01,  8.18741314e-02,  6.76421342e-01,\n",
       "         2.00548018e-02],\n",
       "       [ 2.22456771e-01,  7.61004111e-02,  6.07412759e-01,\n",
       "         4.59510422e-02],\n",
       "       [ 8.20241729e-01,  7.55498923e-02,  3.09483172e-02,\n",
       "        -1.51901831e-02],\n",
       "       [ 8.23586269e-01,  7.93169275e-02,  2.03925290e-03,\n",
       "         3.84539843e-03],\n",
       "       [ 8.20491590e-01,  8.27089861e-02,  3.99205476e-02,\n",
       "        -2.81448737e-02],\n",
       "       [ 8.43419291e-01,  7.59892570e-02, -8.76452342e-03,\n",
       "        -1.50593812e-03],\n",
       "       [ 8.24534864e-01,  6.51193067e-02, -1.60242181e-02,\n",
       "         4.10008651e-02],\n",
       "       [ 8.19683078e-01,  1.01863955e-01, -4.76424706e-03,\n",
       "         7.87185943e-04],\n",
       "       [ 8.51684597e-01,  6.66981073e-02, -4.76630466e-03,\n",
       "        -1.00718185e-02],\n",
       "       [ 8.23253887e-01,  8.53782801e-02,  9.92087062e-03,\n",
       "        -1.10463337e-02],\n",
       "       [ 8.08491355e-01,  1.11576739e-01, -1.39311923e-02,\n",
       "         1.13882783e-02],\n",
       "       [ 8.43895973e-01,  8.53228683e-02, -6.28949282e-03,\n",
       "        -1.93274407e-02],\n",
       "       [ 8.58652722e-01,  5.17471380e-02,  7.93522020e-03,\n",
       "         4.12394674e-02],\n",
       "       [ 8.28399029e-01,  2.63956359e-02,  5.47714603e-02,\n",
       "         5.62110081e-02],\n",
       "       [ 8.42156848e-01,  6.46485363e-02,  2.10312655e-02,\n",
       "         3.67626734e-02],\n",
       "       [ 8.39187243e-01,  3.97948324e-02,  3.83889100e-02,\n",
       "         4.24376617e-02],\n",
       "       [ 8.39125830e-01,  3.12817781e-02,  5.37789211e-02,\n",
       "         3.94750928e-02],\n",
       "       [ 8.57531254e-01,  4.11132024e-02,  1.90283398e-02,\n",
       "         4.27855583e-02],\n",
       "       [ 8.43488249e-01,  5.12980422e-02,  4.05282056e-02,\n",
       "         2.86477361e-02],\n",
       "       [ 8.50059251e-01,  4.43768424e-02,  4.73856009e-02,\n",
       "         2.17950522e-02],\n",
       "       [ 8.46385847e-01,  3.76008891e-02,  3.57707207e-02,\n",
       "         4.25717393e-02],\n",
       "       [ 8.24446627e-01,  4.34395597e-02,  4.16254468e-02,\n",
       "         5.46389670e-02],\n",
       "       [ 7.25433721e-01,  1.27603865e-01,  3.91283207e-02,\n",
       "         5.18616206e-02],\n",
       "       [ 7.29870161e-01,  1.31951659e-01,  5.58054226e-02,\n",
       "         3.00310932e-02],\n",
       "       [ 7.33313744e-01,  1.33316530e-01,  5.51228252e-02,\n",
       "         2.82758125e-02],\n",
       "       [ 7.28379974e-01,  1.63442640e-01,  3.35749917e-02,\n",
       "         2.58094236e-02],\n",
       "       [ 7.41429424e-01,  1.36269799e-01,  3.09454486e-02,\n",
       "         4.15954216e-02],\n",
       "       [ 7.12243877e-01,  1.29873645e-01,  6.24494418e-02,\n",
       "         4.93413695e-02],\n",
       "       [ 7.16777181e-01,  1.09321360e-01,  6.18839795e-02,\n",
       "         6.28949559e-02],\n",
       "       [ 7.17404654e-01,  8.43616119e-02,  7.65621708e-02,\n",
       "         7.56586815e-02],\n",
       "       [ 7.14212491e-01,  1.61830184e-01,  4.70432201e-02,\n",
       "         2.44539814e-02],\n",
       "       [ 7.42851548e-01,  1.10914421e-01,  4.67419919e-02,\n",
       "         4.59146990e-02]])"
      ]
     },
     "execution_count": 17,
     "metadata": {},
     "output_type": "execute_result"
    }
   ],
   "source": [
    "fa.loadings_"
   ]
  },
  {
   "cell_type": "markdown",
   "metadata": {},
   "source": [
    "### Generamos las variables TARGET de cada registro, multiplicando los pesos de los factores a cada variable plausible"
   ]
  },
  {
   "cell_type": "code",
   "execution_count": 18,
   "metadata": {},
   "outputs": [],
   "source": [
    "resultado = np.matmul(d1.to_numpy(),fa.loadings_)"
   ]
  },
  {
   "cell_type": "markdown",
   "metadata": {},
   "source": [
    "### Normalizamos los resultados"
   ]
  },
  {
   "cell_type": "code",
   "execution_count": 19,
   "metadata": {},
   "outputs": [
    {
     "name": "stdout",
     "output_type": "stream",
     "text": [
      "[[0.58610904 0.63513224 0.57669192 0.60953758]\n",
      " [0.74438067 0.75289408 0.75984997 0.71570542]\n",
      " [0.83200473 0.85749559 0.79611331 0.82722559]\n",
      " ...\n",
      " [0.73372196 0.7491285  0.71769574 0.69398004]\n",
      " [0.8308217  0.86303453 0.82088087 0.83862316]\n",
      " [0.80111185 0.8227837  0.79152041 0.759658  ]]\n"
     ]
    }
   ],
   "source": [
    "from sklearn.preprocessing import normalize\n",
    "data = normalize(resultado, axis=0, norm='max')\n",
    "print(data)"
   ]
  },
  {
   "cell_type": "markdown",
   "metadata": {},
   "source": [
    "### Hacemos una pequeña comprobación de coherencia, y se comprueba que los alumnos que sus valores plausibles son menores, efectivamente sus variables TARGET son menores de otros alumnos que tienen valores plausibles más altos"
   ]
  },
  {
   "cell_type": "code",
   "execution_count": 20,
   "metadata": {},
   "outputs": [
    {
     "data": {
      "text/plain": [
       "array([0.58610904, 0.63513224, 0.57669192, 0.60953758])"
      ]
     },
     "execution_count": 20,
     "metadata": {},
     "output_type": "execute_result"
    }
   ],
   "source": [
    "data[0]"
   ]
  },
  {
   "cell_type": "code",
   "execution_count": 21,
   "metadata": {},
   "outputs": [
    {
     "name": "stdout",
     "output_type": "stream",
     "text": [
      "Variables plausibles Matemáticas\n",
      "[462.846 479.586 404.056 447.71  517.438 487.041 413.501 521.821 492.305\n",
      " 456.026]\n",
      "Variables plausibles Lectura\n",
      "[398.571 462.683 417.306 448.816 430.852 457.67  466.77  457.976 465.463\n",
      " 454.947]\n",
      "Variables plausibles Ciencias\n",
      "[382.892 414.668 428.708 481.002 467.633 514.629 565.666 476.991 473.242\n",
      " 437.731]\n",
      "Variables plausibles Globales\n",
      "[413.862 489.386 404.186 435.349 486.702 432.444 458.678 386.521 453.97\n",
      " 451.725]\n"
     ]
    }
   ],
   "source": [
    "print(\"Variables plausibles Matemáticas\")\n",
    "print(d1.values[0,0:10])\n",
    "print(\"Variables plausibles Lectura\")\n",
    "print(d1.values[0,10:20])\n",
    "print(\"Variables plausibles Ciencias\")\n",
    "print(d1.values[0,20:30])\n",
    "print(\"Variables plausibles Globales\")\n",
    "print(d1.values[0,30:40])"
   ]
  },
  {
   "cell_type": "code",
   "execution_count": 22,
   "metadata": {},
   "outputs": [
    {
     "data": {
      "text/plain": [
       "array([0.83200473, 0.85749559, 0.79611331, 0.82722559])"
      ]
     },
     "execution_count": 22,
     "metadata": {},
     "output_type": "execute_result"
    }
   ],
   "source": [
    "data[2]"
   ]
  },
  {
   "cell_type": "code",
   "execution_count": 23,
   "metadata": {},
   "outputs": [
    {
     "name": "stdout",
     "output_type": "stream",
     "text": [
      "Variables plausibles Matemáticas\n",
      "[586.723 655.22  578.656 643.228 602.914 597.525 659.336 674.028 617.384\n",
      " 581.032]\n",
      "Variables plausibles Lectura\n",
      "[595.139 663.241 625.061 646.557 584.038 631.15  648.823 612.318 633.671\n",
      " 612.12 ]\n",
      "Variables plausibles Ciencias\n",
      "[586.453 621.134 642.681 648.995 622.229 628.634 622.172 644.589 621.66\n",
      " 617.954]\n",
      "Variables plausibles Globales\n",
      "[616.454 641.133 619.07  715.138 603.079 626.772 567.849 583.131 559.569\n",
      " 558.693]\n"
     ]
    }
   ],
   "source": [
    "print(\"Variables plausibles Matemáticas\")\n",
    "print(d1.values[2,0:10])\n",
    "print(\"Variables plausibles Lectura\")\n",
    "print(d1.values[2,10:20])\n",
    "print(\"Variables plausibles Ciencias\")\n",
    "print(d1.values[2,20:30])\n",
    "print(\"Variables plausibles Globales\")\n",
    "print(d1.values[2,30:40])"
   ]
  },
  {
   "cell_type": "markdown",
   "metadata": {},
   "source": [
    "# Método con rotación varimax"
   ]
  },
  {
   "cell_type": "code",
   "execution_count": 24,
   "metadata": {},
   "outputs": [
    {
     "data": {
      "text/plain": [
       "array([5.53120720e+01, 2.19798145e+00, 1.07086604e+00, 6.92929505e-01,\n",
       "       4.46049299e-01, 4.21046716e-01, 2.94260996e-01, 2.86953248e-01,\n",
       "       2.85955281e-01, 2.82871478e-01, 2.81045717e-01, 2.76469566e-01,\n",
       "       2.73036117e-01, 2.71186446e-01, 2.67891586e-01, 2.66573539e-01,\n",
       "       2.60182889e-01, 2.58247936e-01, 2.57161296e-01, 2.54200667e-01,\n",
       "       2.52639653e-01, 2.52534599e-01, 2.49146716e-01, 2.45103493e-01,\n",
       "       2.20587371e-01, 1.84446705e-01, 1.81618947e-01, 1.75425385e-01,\n",
       "       1.72635592e-01, 1.71257491e-01, 1.68690849e-01, 1.61807152e-01,\n",
       "       1.60586876e-01, 1.56573719e-01, 1.41775005e-01, 1.40710676e-01,\n",
       "       1.37160905e-01, 1.36375618e-01, 1.33400355e-01, 1.29930151e-01,\n",
       "       1.27080667e-01, 1.25396443e-01, 1.20740233e-01, 1.19754082e-01,\n",
       "       1.17721572e-01, 1.14765179e-01, 1.12735751e-01, 1.09934896e-01,\n",
       "       1.08120206e-01, 1.04454593e-01, 1.01528783e-01, 9.17010854e-02,\n",
       "       6.99930080e-02, 6.97383422e-02, 6.80185200e-02, 6.73924887e-02,\n",
       "       6.68003137e-02, 6.53113355e-02, 6.52485739e-02, 6.39003973e-02,\n",
       "       6.33058060e-02, 6.26422024e-02, 6.19514870e-02, 6.11757402e-02,\n",
       "       6.06460505e-02, 5.81930209e-02, 5.55701236e-02, 5.49724197e-02,\n",
       "       5.11769894e-02, 5.06406713e-02])"
      ]
     },
     "execution_count": 24,
     "metadata": {},
     "output_type": "execute_result"
    }
   ],
   "source": [
    "# Create factor analysis object and perform factor analysis\n",
    "fa2 = FactorAnalyzer()\n",
    "fa2.set_params(n_factors=4, rotation='varimax')\n",
    "#fa.analyze(df, 25, rotation=None)\n",
    "fa2.fit(d1)\n",
    "# Check Eigenvalues\n",
    "ev, v = fa.get_eigenvalues()\n",
    "ev"
   ]
  },
  {
   "cell_type": "code",
   "execution_count": 25,
   "metadata": {},
   "outputs": [
    {
     "data": {
      "text/plain": [
       "4"
      ]
     },
     "execution_count": 25,
     "metadata": {},
     "output_type": "execute_result"
    }
   ],
   "source": [
    "fa2.n_factors"
   ]
  },
  {
   "cell_type": "code",
   "execution_count": 26,
   "metadata": {},
   "outputs": [
    {
     "data": {
      "image/png": "[encoded data removed]",
      "text/plain": [
       "<Figure size 432x288 with 1 Axes>"
      ]
     },
     "metadata": {},
     "output_type": "display_data"
    }
   ],
   "source": [
    "# Create scree plot using matplotlib\n",
    "plt.scatter(range(1,d1.shape[1]+1),ev)\n",
    "plt.plot(range(1,d1.shape[1]+1),ev)\n",
    "plt.title('Scree Plot')\n",
    "plt.xlabel('Factors')\n",
    "plt.ylabel('Eigenvalue')\n",
    "plt.grid()\n",
    "plt.show()"
   ]
  },
  {
   "cell_type": "code",
   "execution_count": 27,
   "metadata": {},
   "outputs": [],
   "source": [
    "ev_aux=ev[1:70]"
   ]
  },
  {
   "cell_type": "code",
   "execution_count": 28,
   "metadata": {},
   "outputs": [
    {
     "data": {
      "text/plain": [
       "array([5.53120720e+01, 2.19798145e+00, 1.07086604e+00, 6.92929505e-01,\n",
       "       4.46049299e-01, 4.21046716e-01, 2.94260996e-01, 2.86953248e-01,\n",
       "       2.85955281e-01, 2.82871478e-01, 2.81045717e-01, 2.76469566e-01,\n",
       "       2.73036117e-01, 2.71186446e-01, 2.67891586e-01, 2.66573539e-01,\n",
       "       2.60182889e-01, 2.58247936e-01, 2.57161296e-01, 2.54200667e-01,\n",
       "       2.52639653e-01, 2.52534599e-01, 2.49146716e-01, 2.45103493e-01,\n",
       "       2.20587371e-01, 1.84446705e-01, 1.81618947e-01, 1.75425385e-01,\n",
       "       1.72635592e-01, 1.71257491e-01, 1.68690849e-01, 1.61807152e-01,\n",
       "       1.60586876e-01, 1.56573719e-01, 1.41775005e-01, 1.40710676e-01,\n",
       "       1.37160905e-01, 1.36375618e-01, 1.33400355e-01, 1.29930151e-01,\n",
       "       1.27080667e-01, 1.25396443e-01, 1.20740233e-01, 1.19754082e-01,\n",
       "       1.17721572e-01, 1.14765179e-01, 1.12735751e-01, 1.09934896e-01,\n",
       "       1.08120206e-01, 1.04454593e-01, 1.01528783e-01, 9.17010854e-02,\n",
       "       6.99930080e-02, 6.97383422e-02, 6.80185200e-02, 6.73924887e-02,\n",
       "       6.68003137e-02, 6.53113355e-02, 6.52485739e-02, 6.39003973e-02,\n",
       "       6.33058060e-02, 6.26422024e-02, 6.19514870e-02, 6.11757402e-02,\n",
       "       6.06460505e-02, 5.81930209e-02, 5.55701236e-02, 5.49724197e-02,\n",
       "       5.11769894e-02, 5.06406713e-02])"
      ]
     },
     "execution_count": 28,
     "metadata": {},
     "output_type": "execute_result"
    }
   ],
   "source": [
    "ev"
   ]
  },
  {
   "cell_type": "code",
   "execution_count": 29,
   "metadata": {},
   "outputs": [
    {
     "data": {
      "image/png": "[encoded data removed]",
      "text/plain": [
       "<Figure size 432x288 with 1 Axes>"
      ]
     },
     "metadata": {},
     "output_type": "display_data"
    }
   ],
   "source": [
    "plt.scatter(range(1,d1.shape[1]),ev_aux)\n",
    "plt.plot(range(1,d1.shape[1]),ev_aux)\n",
    "plt.title('Scree Plot')\n",
    "plt.xlabel('Factors')\n",
    "plt.ylabel('Eigenvalue')\n",
    "plt.grid()\n",
    "plt.show()"
   ]
  },
  {
   "cell_type": "code",
   "execution_count": 30,
   "metadata": {},
   "outputs": [
    {
     "data": {
      "text/plain": [
       "(70, 4)"
      ]
     },
     "execution_count": 30,
     "metadata": {},
     "output_type": "execute_result"
    }
   ],
   "source": [
    "fa2.loadings_.shape"
   ]
  },
  {
   "cell_type": "markdown",
   "metadata": {},
   "source": [
    "### Factor de Lectura: El primer factor tiene sentido que sea el de Lectura, ya que coincide su peso con las variables plausibles dedicadas a la Lectura"
   ]
  },
  {
   "cell_type": "code",
   "execution_count": 31,
   "metadata": {},
   "outputs": [
    {
     "data": {
      "text/plain": [
       "<BarContainer object of 70 artists>"
      ]
     },
     "execution_count": 31,
     "metadata": {},
     "output_type": "execute_result"
    },
    {
     "data": {
      "image/png": "[encoded data removed]",
      "text/plain": [
       "<Figure size 432x288 with 1 Axes>"
      ]
     },
     "metadata": {},
     "output_type": "display_data"
    }
   ],
   "source": [
    "mapeado=range(70)\n",
    "plt.bar([x+0.2 for x in mapeado],fa2.loadings_.transpose()[0])"
   ]
  },
  {
   "cell_type": "markdown",
   "metadata": {},
   "source": [
    "### Factor de Matemáticas: El segundo factor tiene sentido que sea el de Matemáticas, ya que coincide su peso con las variables plausibles dedicadas a Matemáticas"
   ]
  },
  {
   "cell_type": "code",
   "execution_count": 32,
   "metadata": {},
   "outputs": [
    {
     "data": {
      "text/plain": [
       "<BarContainer object of 70 artists>"
      ]
     },
     "execution_count": 32,
     "metadata": {},
     "output_type": "execute_result"
    },
    {
     "data": {
      "image/png": "[encoded data removed]",
      "text/plain": [
       "<Figure size 432x288 with 1 Axes>"
      ]
     },
     "metadata": {},
     "output_type": "display_data"
    }
   ],
   "source": [
    "mapeado=range(70)\n",
    "plt.bar([x+0.2 for x in mapeado],fa2.loadings_.transpose()[1])"
   ]
  },
  {
   "cell_type": "markdown",
   "metadata": {},
   "source": [
    "### Factor de Competencia global: El tercer factor tiene sentido que sea el de Competencía Global, ya que coincide su peso con las variables plausibles dedicadas a Competencía Global"
   ]
  },
  {
   "cell_type": "code",
   "execution_count": 33,
   "metadata": {},
   "outputs": [
    {
     "data": {
      "text/plain": [
       "<BarContainer object of 70 artists>"
      ]
     },
     "execution_count": 33,
     "metadata": {},
     "output_type": "execute_result"
    },
    {
     "data": {
      "image/png": "[encoded data removed]",
      "text/plain": [
       "<Figure size 432x288 with 1 Axes>"
      ]
     },
     "metadata": {},
     "output_type": "display_data"
    }
   ],
   "source": [
    "mapeado=range(70)\n",
    "plt.bar([x+0.2 for x in mapeado],fa2.loadings_.transpose()[2])"
   ]
  },
  {
   "cell_type": "markdown",
   "metadata": {},
   "source": [
    "### Factor de Competencia ciencia: El cuarto factor tiene sentido que sea el de Ciencias, ya que coincide su peso con las variables plausibles dedicadas a Ciencia"
   ]
  },
  {
   "cell_type": "code",
   "execution_count": 34,
   "metadata": {},
   "outputs": [
    {
     "data": {
      "text/plain": [
       "<BarContainer object of 70 artists>"
      ]
     },
     "execution_count": 34,
     "metadata": {},
     "output_type": "execute_result"
    },
    {
     "data": {
      "image/png": "[encoded data removed]",
      "text/plain": [
       "<Figure size 432x288 with 1 Axes>"
      ]
     },
     "metadata": {},
     "output_type": "display_data"
    }
   ],
   "source": [
    "mapeado=range(70)\n",
    "plt.bar([x+0.2 for x in mapeado],fa2.loadings_.transpose()[3])"
   ]
  },
  {
   "cell_type": "markdown",
   "metadata": {},
   "source": [
    "### Generamos las variables TARGET de cada registro, multiplicando los pesos de los factores a cada variable plausible"
   ]
  },
  {
   "cell_type": "code",
   "execution_count": 35,
   "metadata": {},
   "outputs": [],
   "source": [
    "resultado2 = np.matmul(d1.to_numpy(),fa2.loadings_)"
   ]
  },
  {
   "cell_type": "markdown",
   "metadata": {},
   "source": [
    "### Normalizamos los resultados"
   ]
  },
  {
   "cell_type": "code",
   "execution_count": 36,
   "metadata": {},
   "outputs": [
    {
     "name": "stdout",
     "output_type": "stream",
     "text": [
      "[[0.58610904 0.63513224 0.57669192 0.60953758]\n",
      " [0.74438067 0.75289408 0.75984997 0.71570542]\n",
      " [0.83200473 0.85749559 0.79611331 0.82722559]\n",
      " ...\n",
      " [0.73372196 0.7491285  0.71769574 0.69398004]\n",
      " [0.8308217  0.86303453 0.82088087 0.83862316]\n",
      " [0.80111185 0.8227837  0.79152041 0.759658  ]]\n"
     ]
    }
   ],
   "source": [
    "from sklearn.preprocessing import normalize\n",
    "data2 = normalize(resultado2, axis=0, norm='max')\n",
    "print(data)"
   ]
  },
  {
   "cell_type": "markdown",
   "metadata": {},
   "source": [
    "### Hacemos una pequeña comprobación de coherencia, y se comprueba que los alumnos que sus valores plausibles son menores, efectivamente sus variables TARGET son menores de otros alumnos que tienen valores plausibles más altos"
   ]
  },
  {
   "cell_type": "code",
   "execution_count": 37,
   "metadata": {},
   "outputs": [
    {
     "data": {
      "text/plain": [
       "array([0.59666611, 0.60956686, 0.60133592, 0.60769756])"
      ]
     },
     "execution_count": 37,
     "metadata": {},
     "output_type": "execute_result"
    }
   ],
   "source": [
    "data2[0]"
   ]
  },
  {
   "cell_type": "code",
   "execution_count": 38,
   "metadata": {},
   "outputs": [
    {
     "name": "stdout",
     "output_type": "stream",
     "text": [
      "Variables plausibles Matemáticas\n",
      "[462.846 479.586 404.056 447.71  517.438 487.041 413.501 521.821 492.305\n",
      " 456.026]\n",
      "Variables plausibles Lectura\n",
      "[398.571 462.683 417.306 448.816 430.852 457.67  466.77  457.976 465.463\n",
      " 454.947]\n",
      "Variables plausibles Ciencias\n",
      "[382.892 414.668 428.708 481.002 467.633 514.629 565.666 476.991 473.242\n",
      " 437.731]\n",
      "Variables plausibles Globales\n",
      "[413.862 489.386 404.186 435.349 486.702 432.444 458.678 386.521 453.97\n",
      " 451.725]\n"
     ]
    }
   ],
   "source": [
    "print(\"Variables plausibles Matemáticas\")\n",
    "print(d1.values[0,0:10])\n",
    "print(\"Variables plausibles Lectura\")\n",
    "print(d1.values[0,10:20])\n",
    "print(\"Variables plausibles Ciencias\")\n",
    "print(d1.values[0,20:30])\n",
    "print(\"Variables plausibles Globales\")\n",
    "print(d1.values[0,30:40])"
   ]
  },
  {
   "cell_type": "code",
   "execution_count": 39,
   "metadata": {},
   "outputs": [
    {
     "data": {
      "text/plain": [
       "array([0.83649604, 0.84323576, 0.83633192, 0.84287019])"
      ]
     },
     "execution_count": 39,
     "metadata": {},
     "output_type": "execute_result"
    }
   ],
   "source": [
    "data2[2]"
   ]
  },
  {
   "cell_type": "code",
   "execution_count": 40,
   "metadata": {},
   "outputs": [
    {
     "name": "stdout",
     "output_type": "stream",
     "text": [
      "Variables plausibles Matemáticas\n",
      "[586.723 655.22  578.656 643.228 602.914 597.525 659.336 674.028 617.384\n",
      " 581.032]\n",
      "Variables plausibles Lectura\n",
      "[595.139 663.241 625.061 646.557 584.038 631.15  648.823 612.318 633.671\n",
      " 612.12 ]\n",
      "Variables plausibles Ciencias\n",
      "[586.453 621.134 642.681 648.995 622.229 628.634 622.172 644.589 621.66\n",
      " 617.954]\n",
      "Variables plausibles Globales\n",
      "[616.454 641.133 619.07  715.138 603.079 626.772 567.849 583.131 559.569\n",
      " 558.693]\n"
     ]
    }
   ],
   "source": [
    "print(\"Variables plausibles Matemáticas\")\n",
    "print(d1.values[2,0:10])\n",
    "print(\"Variables plausibles Lectura\")\n",
    "print(d1.values[2,10:20])\n",
    "print(\"Variables plausibles Ciencias\")\n",
    "print(d1.values[2,20:30])\n",
    "print(\"Variables plausibles Globales\")\n",
    "print(d1.values[2,30:40])"
   ]
  },
  {
   "cell_type": "markdown",
   "metadata": {},
   "source": [
    "# Eliminar las variables sobrantes del Dataset inicial, e incluir las 8 variables target calculadas"
   ]
  },
  {
   "cell_type": "code",
   "execution_count": 41,
   "metadata": {},
   "outputs": [],
   "source": [
    "#Variables de pesos y plausibles que no se van a utilizar\n",
    "col_eli = df.iloc[:, 941:1118].columns"
   ]
  },
  {
   "cell_type": "code",
   "execution_count": 42,
   "metadata": {},
   "outputs": [],
   "source": [
    "#borramos las columnad\n",
    "df2 = df.drop(col_eli, axis=1)"
   ]
  },
  {
   "cell_type": "code",
   "execution_count": 43,
   "metadata": {},
   "outputs": [],
   "source": [
    "# Añadimos cada variable TARGET al dataframe como nueva columna\n",
    "lec1 = data[:,0]\n",
    "mat1 = data[:,1]\n",
    "glo1 = data[:,2]\n",
    "cie1 = data[:,3]\n",
    "lec2 = data2[:,0]\n",
    "mat2 = data2[:,1]\n",
    "glo2 = data2[:,2]\n",
    "cie2 = data2[:,3]\n",
    "df2['LECTURA1'] = lec1\n",
    "df2['MATES1'] = mat1\n",
    "df2['CIENCIA1'] = glo1\n",
    "df2['GLOBAL1'] = cie1\n",
    "df2['LECTURA2'] = lec2\n",
    "df2['MATES2'] = mat2\n",
    "df2['CIENCIA2'] = glo2\n",
    "df2['GLOBAL2'] = cie2"
   ]
  },
  {
   "cell_type": "code",
   "execution_count": 44,
   "metadata": {},
   "outputs": [
    {
     "data": {
      "text/html": [
       "<div>\n",
       "<style scoped>\n",
       "    .dataframe tbody tr th:only-of-type {\n",
       "        vertical-align: middle;\n",
       "    }\n",
       "\n",
       "    .dataframe tbody tr th {\n",
       "        vertical-align: top;\n",
       "    }\n",
       "\n",
       "    .dataframe thead th {\n",
       "        text-align: right;\n",
       "    }\n",
       "</style>\n",
       "<table border=\"1\" class=\"dataframe\">\n",
       "  <thead>\n",
       "    <tr style=\"text-align: right;\">\n",
       "      <th></th>\n",
       "      <th>CNTRYID</th>\n",
       "      <th>CNT</th>\n",
       "      <th>CNTSCHID</th>\n",
       "      <th>CNTSTUID</th>\n",
       "      <th>CYC</th>\n",
       "      <th>NatCen</th>\n",
       "      <th>STRATUM</th>\n",
       "      <th>SUBNATIO</th>\n",
       "      <th>OECD</th>\n",
       "      <th>ADMINMODE</th>\n",
       "      <th>...</th>\n",
       "      <th>GCAWAREP</th>\n",
       "      <th>test</th>\n",
       "      <th>LECTURA1</th>\n",
       "      <th>MATES1</th>\n",
       "      <th>CIENCIA1</th>\n",
       "      <th>GLOBAL1</th>\n",
       "      <th>LECTURA2</th>\n",
       "      <th>MATES2</th>\n",
       "      <th>CIENCIA2</th>\n",
       "      <th>GLOBAL2</th>\n",
       "    </tr>\n",
       "  </thead>\n",
       "  <tbody>\n",
       "    <tr>\n",
       "      <th>0</th>\n",
       "      <td>724.0</td>\n",
       "      <td>ESP</td>\n",
       "      <td>72400001.0</td>\n",
       "      <td>72400490.0</td>\n",
       "      <td>07MS</td>\n",
       "      <td>072400</td>\n",
       "      <td>ESP9028</td>\n",
       "      <td>7240000</td>\n",
       "      <td>1.0</td>\n",
       "      <td>2.0</td>\n",
       "      <td>...</td>\n",
       "      <td>NaN</td>\n",
       "      <td>NaN</td>\n",
       "      <td>0.586109</td>\n",
       "      <td>0.635132</td>\n",
       "      <td>0.576692</td>\n",
       "      <td>0.609538</td>\n",
       "      <td>0.596666</td>\n",
       "      <td>0.609567</td>\n",
       "      <td>0.601336</td>\n",
       "      <td>0.607698</td>\n",
       "    </tr>\n",
       "    <tr>\n",
       "      <th>1</th>\n",
       "      <td>724.0</td>\n",
       "      <td>ESP</td>\n",
       "      <td>72400001.0</td>\n",
       "      <td>72401482.0</td>\n",
       "      <td>07MS</td>\n",
       "      <td>072400</td>\n",
       "      <td>ESP9028</td>\n",
       "      <td>7240000</td>\n",
       "      <td>1.0</td>\n",
       "      <td>2.0</td>\n",
       "      <td>...</td>\n",
       "      <td>NaN</td>\n",
       "      <td>NaN</td>\n",
       "      <td>0.744381</td>\n",
       "      <td>0.752894</td>\n",
       "      <td>0.759850</td>\n",
       "      <td>0.715705</td>\n",
       "      <td>0.749909</td>\n",
       "      <td>0.752305</td>\n",
       "      <td>0.758363</td>\n",
       "      <td>0.751188</td>\n",
       "    </tr>\n",
       "    <tr>\n",
       "      <th>2</th>\n",
       "      <td>724.0</td>\n",
       "      <td>ESP</td>\n",
       "      <td>72400001.0</td>\n",
       "      <td>72402362.0</td>\n",
       "      <td>07MS</td>\n",
       "      <td>072400</td>\n",
       "      <td>ESP9028</td>\n",
       "      <td>7240000</td>\n",
       "      <td>1.0</td>\n",
       "      <td>2.0</td>\n",
       "      <td>...</td>\n",
       "      <td>NaN</td>\n",
       "      <td>NaN</td>\n",
       "      <td>0.832005</td>\n",
       "      <td>0.857496</td>\n",
       "      <td>0.796113</td>\n",
       "      <td>0.827226</td>\n",
       "      <td>0.836496</td>\n",
       "      <td>0.843236</td>\n",
       "      <td>0.836332</td>\n",
       "      <td>0.842870</td>\n",
       "    </tr>\n",
       "    <tr>\n",
       "      <th>3</th>\n",
       "      <td>724.0</td>\n",
       "      <td>ESP</td>\n",
       "      <td>72400001.0</td>\n",
       "      <td>72402959.0</td>\n",
       "      <td>07MS</td>\n",
       "      <td>072400</td>\n",
       "      <td>ESP9028</td>\n",
       "      <td>7240000</td>\n",
       "      <td>1.0</td>\n",
       "      <td>2.0</td>\n",
       "      <td>...</td>\n",
       "      <td>NaN</td>\n",
       "      <td>NaN</td>\n",
       "      <td>0.514129</td>\n",
       "      <td>0.560212</td>\n",
       "      <td>0.540197</td>\n",
       "      <td>0.552421</td>\n",
       "      <td>0.528629</td>\n",
       "      <td>0.541695</td>\n",
       "      <td>0.540430</td>\n",
       "      <td>0.542919</td>\n",
       "    </tr>\n",
       "    <tr>\n",
       "      <th>4</th>\n",
       "      <td>724.0</td>\n",
       "      <td>ESP</td>\n",
       "      <td>72400001.0</td>\n",
       "      <td>72403316.0</td>\n",
       "      <td>07MS</td>\n",
       "      <td>072400</td>\n",
       "      <td>ESP9028</td>\n",
       "      <td>7240000</td>\n",
       "      <td>1.0</td>\n",
       "      <td>2.0</td>\n",
       "      <td>...</td>\n",
       "      <td>NaN</td>\n",
       "      <td>NaN</td>\n",
       "      <td>0.748630</td>\n",
       "      <td>0.720412</td>\n",
       "      <td>0.757500</td>\n",
       "      <td>0.679666</td>\n",
       "      <td>0.746114</td>\n",
       "      <td>0.738673</td>\n",
       "      <td>0.751130</td>\n",
       "      <td>0.738106</td>\n",
       "    </tr>\n",
       "    <tr>\n",
       "      <th>...</th>\n",
       "      <td>...</td>\n",
       "      <td>...</td>\n",
       "      <td>...</td>\n",
       "      <td>...</td>\n",
       "      <td>...</td>\n",
       "      <td>...</td>\n",
       "      <td>...</td>\n",
       "      <td>...</td>\n",
       "      <td>...</td>\n",
       "      <td>...</td>\n",
       "      <td>...</td>\n",
       "      <td>...</td>\n",
       "      <td>...</td>\n",
       "      <td>...</td>\n",
       "      <td>...</td>\n",
       "      <td>...</td>\n",
       "      <td>...</td>\n",
       "      <td>...</td>\n",
       "      <td>...</td>\n",
       "      <td>...</td>\n",
       "      <td>...</td>\n",
       "    </tr>\n",
       "    <tr>\n",
       "      <th>35938</th>\n",
       "      <td>724.0</td>\n",
       "      <td>ESP</td>\n",
       "      <td>72401102.0</td>\n",
       "      <td>72421796.0</td>\n",
       "      <td>07MS</td>\n",
       "      <td>072400</td>\n",
       "      <td>ESP9013</td>\n",
       "      <td>7240000</td>\n",
       "      <td>1.0</td>\n",
       "      <td>2.0</td>\n",
       "      <td>...</td>\n",
       "      <td>NaN</td>\n",
       "      <td>NaN</td>\n",
       "      <td>0.678839</td>\n",
       "      <td>0.694708</td>\n",
       "      <td>0.717064</td>\n",
       "      <td>0.668215</td>\n",
       "      <td>0.688511</td>\n",
       "      <td>0.693371</td>\n",
       "      <td>0.701855</td>\n",
       "      <td>0.693659</td>\n",
       "    </tr>\n",
       "    <tr>\n",
       "      <th>35939</th>\n",
       "      <td>724.0</td>\n",
       "      <td>ESP</td>\n",
       "      <td>72401102.0</td>\n",
       "      <td>72425905.0</td>\n",
       "      <td>07MS</td>\n",
       "      <td>072400</td>\n",
       "      <td>ESP9013</td>\n",
       "      <td>7240000</td>\n",
       "      <td>1.0</td>\n",
       "      <td>2.0</td>\n",
       "      <td>...</td>\n",
       "      <td>NaN</td>\n",
       "      <td>NaN</td>\n",
       "      <td>0.830551</td>\n",
       "      <td>0.826280</td>\n",
       "      <td>0.847201</td>\n",
       "      <td>0.799105</td>\n",
       "      <td>0.834995</td>\n",
       "      <td>0.834609</td>\n",
       "      <td>0.844056</td>\n",
       "      <td>0.836343</td>\n",
       "    </tr>\n",
       "    <tr>\n",
       "      <th>35940</th>\n",
       "      <td>724.0</td>\n",
       "      <td>ESP</td>\n",
       "      <td>72401102.0</td>\n",
       "      <td>72426602.0</td>\n",
       "      <td>07MS</td>\n",
       "      <td>072400</td>\n",
       "      <td>ESP9013</td>\n",
       "      <td>7240000</td>\n",
       "      <td>1.0</td>\n",
       "      <td>2.0</td>\n",
       "      <td>...</td>\n",
       "      <td>NaN</td>\n",
       "      <td>NaN</td>\n",
       "      <td>0.733722</td>\n",
       "      <td>0.749129</td>\n",
       "      <td>0.717696</td>\n",
       "      <td>0.693980</td>\n",
       "      <td>0.735940</td>\n",
       "      <td>0.739085</td>\n",
       "      <td>0.737609</td>\n",
       "      <td>0.734141</td>\n",
       "    </tr>\n",
       "    <tr>\n",
       "      <th>35941</th>\n",
       "      <td>724.0</td>\n",
       "      <td>ESP</td>\n",
       "      <td>72401102.0</td>\n",
       "      <td>72444251.0</td>\n",
       "      <td>07MS</td>\n",
       "      <td>072400</td>\n",
       "      <td>ESP9013</td>\n",
       "      <td>7240000</td>\n",
       "      <td>1.0</td>\n",
       "      <td>2.0</td>\n",
       "      <td>...</td>\n",
       "      <td>NaN</td>\n",
       "      <td>NaN</td>\n",
       "      <td>0.830822</td>\n",
       "      <td>0.863035</td>\n",
       "      <td>0.820881</td>\n",
       "      <td>0.838623</td>\n",
       "      <td>0.839750</td>\n",
       "      <td>0.848758</td>\n",
       "      <td>0.845455</td>\n",
       "      <td>0.849479</td>\n",
       "    </tr>\n",
       "    <tr>\n",
       "      <th>35942</th>\n",
       "      <td>724.0</td>\n",
       "      <td>ESP</td>\n",
       "      <td>72401102.0</td>\n",
       "      <td>72446056.0</td>\n",
       "      <td>07MS</td>\n",
       "      <td>072400</td>\n",
       "      <td>ESP9013</td>\n",
       "      <td>7240000</td>\n",
       "      <td>1.0</td>\n",
       "      <td>2.0</td>\n",
       "      <td>...</td>\n",
       "      <td>NaN</td>\n",
       "      <td>NaN</td>\n",
       "      <td>0.801112</td>\n",
       "      <td>0.822784</td>\n",
       "      <td>0.791520</td>\n",
       "      <td>0.759658</td>\n",
       "      <td>0.805100</td>\n",
       "      <td>0.809777</td>\n",
       "      <td>0.808700</td>\n",
       "      <td>0.803790</td>\n",
       "    </tr>\n",
       "  </tbody>\n",
       "</table>\n",
       "<p>35943 rows × 950 columns</p>\n",
       "</div>"
      ],
      "text/plain": [
       "       CNTRYID  CNT    CNTSCHID    CNTSTUID   CYC  NatCen  STRATUM SUBNATIO  \\\n",
       "0        724.0  ESP  72400001.0  72400490.0  07MS  072400  ESP9028  7240000   \n",
       "1        724.0  ESP  72400001.0  72401482.0  07MS  072400  ESP9028  7240000   \n",
       "2        724.0  ESP  72400001.0  72402362.0  07MS  072400  ESP9028  7240000   \n",
       "3        724.0  ESP  72400001.0  72402959.0  07MS  072400  ESP9028  7240000   \n",
       "4        724.0  ESP  72400001.0  72403316.0  07MS  072400  ESP9028  7240000   \n",
       "...        ...  ...         ...         ...   ...     ...      ...      ...   \n",
       "35938    724.0  ESP  72401102.0  72421796.0  07MS  072400  ESP9013  7240000   \n",
       "35939    724.0  ESP  72401102.0  72425905.0  07MS  072400  ESP9013  7240000   \n",
       "35940    724.0  ESP  72401102.0  72426602.0  07MS  072400  ESP9013  7240000   \n",
       "35941    724.0  ESP  72401102.0  72444251.0  07MS  072400  ESP9013  7240000   \n",
       "35942    724.0  ESP  72401102.0  72446056.0  07MS  072400  ESP9013  7240000   \n",
       "\n",
       "       OECD  ADMINMODE  ...  GCAWAREP  test  LECTURA1    MATES1  CIENCIA1  \\\n",
       "0       1.0        2.0  ...       NaN   NaN  0.586109  0.635132  0.576692   \n",
       "1       1.0        2.0  ...       NaN   NaN  0.744381  0.752894  0.759850   \n",
       "2       1.0        2.0  ...       NaN   NaN  0.832005  0.857496  0.796113   \n",
       "3       1.0        2.0  ...       NaN   NaN  0.514129  0.560212  0.540197   \n",
       "4       1.0        2.0  ...       NaN   NaN  0.748630  0.720412  0.757500   \n",
       "...     ...        ...  ...       ...   ...       ...       ...       ...   \n",
       "35938   1.0        2.0  ...       NaN   NaN  0.678839  0.694708  0.717064   \n",
       "35939   1.0        2.0  ...       NaN   NaN  0.830551  0.826280  0.847201   \n",
       "35940   1.0        2.0  ...       NaN   NaN  0.733722  0.749129  0.717696   \n",
       "35941   1.0        2.0  ...       NaN   NaN  0.830822  0.863035  0.820881   \n",
       "35942   1.0        2.0  ...       NaN   NaN  0.801112  0.822784  0.791520   \n",
       "\n",
       "        GLOBAL1  LECTURA2    MATES2  CIENCIA2   GLOBAL2  \n",
       "0      0.609538  0.596666  0.609567  0.601336  0.607698  \n",
       "1      0.715705  0.749909  0.752305  0.758363  0.751188  \n",
       "2      0.827226  0.836496  0.843236  0.836332  0.842870  \n",
       "3      0.552421  0.528629  0.541695  0.540430  0.542919  \n",
       "4      0.679666  0.746114  0.738673  0.751130  0.738106  \n",
       "...         ...       ...       ...       ...       ...  \n",
       "35938  0.668215  0.688511  0.693371  0.701855  0.693659  \n",
       "35939  0.799105  0.834995  0.834609  0.844056  0.836343  \n",
       "35940  0.693980  0.735940  0.739085  0.737609  0.734141  \n",
       "35941  0.838623  0.839750  0.848758  0.845455  0.849479  \n",
       "35942  0.759658  0.805100  0.809777  0.808700  0.803790  \n",
       "\n",
       "[35943 rows x 950 columns]"
      ]
     },
     "execution_count": 44,
     "metadata": {},
     "output_type": "execute_result"
    }
   ],
   "source": [
    "df2"
   ]
  },
  {
   "cell_type": "code",
   "execution_count": 45,
   "metadata": {},
   "outputs": [],
   "source": [
    "df2.to_csv('EstudiantesTar.csv')"
   ]
  },
  {
   "cell_type": "code",
   "execution_count": null,
   "metadata": {},
   "outputs": [],
   "source": []
  }
 ],
 "metadata": {
  "kernelspec": {
   "display_name": "Python 3",
   "language": "python",
   "name": "python3"
  },
  "language_info": {
   "codemirror_mode": {
    "name": "ipython",
    "version": 3
   },
   "file_extension": ".py",
   "mimetype": "text/x-python",
   "name": "python",
   "nbconvert_exporter": "python",
   "pygments_lexer": "ipython3",
   "version": "3.8.5"
  }
 },
 "nbformat": 4,
 "nbformat_minor": 2
}
