{
 "cells": [
  {
   "cell_type": "markdown",
   "metadata": {},
   "source": [
    "<font color=\"#CA3532\"><h1 align=\"left\">Fundamentos de Análisis de Datos</h1></font>\n",
    "<font color=\"#6E6E6E\"><h2 align=\"left\">Preprocesado de Datos con Python</h2></font>"
   ]
  },
  {
   "cell_type": "markdown",
   "metadata": {},
   "source": [
    "### <font color=\"#CA3532\">Librerías de referencia</font>\n",
    "\n",
    "<hr>\n",
    "- <a href=\"http://pandas.pydata.org/index.html\">pandas</a>, permite cargar, limpiar y transformar los datos de una manera sencilla\n",
    "<img src=\"figuras/pandas_logo.png\" align=\"center\" style=\"float\" width=\"300\">\n",
    "\n",
    "<hr>\n",
    "- <a href=\"http://www.numpy.org/\">NumPy</a>, permite entre otras muchas cosas realizar transformaciones sobre arrays de datos\n",
    "<img src=\"figuras/numpy_logo.png\" align=\"center\" style=\"float\" width=\"200\">\n",
    "\n",
    "<hr>\n",
    "- <a href=\"http://matplotlib.org/\">matplotlib</a>, para visualizar datos\n",
    "<img src=\"figuras/mlib-logo.svg\" align=\"center\" style=\"float\" width=\"300\">\n",
    "\n",
    "<hr>\n",
    "- <a href=\"http://scikit-learn.org/stable/\">scikit-learn</a>, librería de referencia sobre Machine Learning. Contiene módulos enfocados en las diferentes etapas de un proyecto de data Science: preprocesamientos, reducciones de dimensionalidad, selección de variables, creación del modelo predictivo (incluye muchos tipos de modelos), y validación del modelo.\n",
    "<img src=\"figuras/scikit-learn-logo-small.png\" align=\"center\" style=\"float\" width=\"200\">"
   ]
  },
  {
   "cell_type": "markdown",
   "metadata": {},
   "source": [
    "### <font color=\"#CA3532\">Preprocesado de los datos</font>\n",
    "\n",
    "Esta etapa involucra los siguientes pasos:\n",
    "\n",
    "- **Inspección y auditoría de datos:**\n",
    "    - Mirar a los datos, ¿todo es correcto?\n",
    "\n",
    "- **Limpieza de datos:**\n",
    "    - Imputación de valores ausentes (missing values)\n",
    "    - Eliminar inconsistencias\n",
    "    - Outliers\n",
    "    - Etc.\n",
    "\n",
    "- **Transformación de los datos:**\n",
    "    - Normalización y/o estandarización\n",
    "    - Suavizado\n",
    "    - Agregación\n",
    "    - Segmentación\n",
    "    - Etc.\n",
    "\n",
    "\n",
    "- **Selección de atributos y reducción de dimensionalidad:**\n",
    "    - Evitar la \"maldición de la dimensionalidad\" (curse of dimensionality)\n",
    "    - Seleccionar los atributos más informativos\n",
    "    - Evitar falsos predictores\n",
    "    \n",
    "\n",
    "Principalmente usaremos la librería *pandas* para abordar muchas de estas tareas."
   ]
  },
  {
   "cell_type": "markdown",
   "metadata": {},
   "source": [
    "### <font color=\"#CA3532\">Conjuntos de datos</font>\n",
    "\n",
    "Usaremos los siguientes conjuntos de datos:\n",
    "\n",
    "- *small.csv:* Un dataset de ejemplo muy sencillo.\n",
    "- *adult.csv:* El conjunto de datos <a href=\"https://archive.ics.uci.edu/ml/datasets/Adult\">adult dataset</a> del repositorio de Machine Learning de UCI. Contiene diferentes datos de personas adultas. La tarea de predicción consiste en determinar su una persona gana más de 50K al año.\n",
    "- *labor.csv:* El conjunto de datos <a href=\"https://archive.ics.uci.edu/ml/datasets/Labor+Relations\">labor dataset</a> del repositorio de UCI sobre Machine Learning. Los datos incluyen todos los acuerdos colectivos alcanzados en el sector \"business and personal services\" con al menos 500 miembros (profesores, enfermeras, plantilla de la universidad, policía, etc.) en Canadá en 1987 y el primer cuarto de 88. \n",
    "- *loan.csv:* Un problema de clasificación de <a href=\"https://www.kaggle.com/c/GiveMeSomeCredit\">kaggle</a> donde el objetivo es determinar si se debe conceder un préstamo o no. "
   ]
  }
 ],
 "metadata": {
  "kernelspec": {
   "display_name": "Python 3",
   "language": "python",
   "name": "python3"
  },
  "language_info": {
   "codemirror_mode": {
    "name": "ipython",
    "version": 3
   },
   "file_extension": ".py",
   "mimetype": "text/x-python",
   "name": "python",
   "nbconvert_exporter": "python",
   "pygments_lexer": "ipython3",
   "version": "3.6.8"
  }
 },
 "nbformat": 4,
 "nbformat_minor": 1
}
