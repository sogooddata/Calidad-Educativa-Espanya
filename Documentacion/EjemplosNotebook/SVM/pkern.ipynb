{
  "nbformat": 4,
  "nbformat_minor": 0,
  "metadata": {
    "kernelspec": {
      "display_name": "Python 3",
      "language": "python",
      "name": "python3"
    },
    "language_info": {
      "codemirror_mode": {
        "name": "ipython",
        "version": 3
      },
      "file_extension": ".py",
      "mimetype": "text/x-python",
      "name": "python",
      "nbconvert_exporter": "python",
      "pygments_lexer": "ipython3",
      "version": "3.7.1"
    },
    "colab": {
      "name": "pkern.ipynb",
      "provenance": []
    }
  },
  "cells": [
    {
      "cell_type": "markdown",
      "metadata": {
        "id": "uSYnI29N0XRy",
        "colab_type": "text"
      },
      "source": [
        "<font color=\"#04B404\"><h1 align=\"center\">Máster en Big Data y Data Science</h1></font>\n",
        "<font color=\"#6E6E6E\"><h2 align=\"center\">Análisis de datos</h2></font>"
      ]
    },
    {
      "cell_type": "markdown",
      "metadata": {
        "id": "g9IhVzpb0XRz",
        "colab_type": "text"
      },
      "source": [
        "En esta práctica vamos a construir, con python, modelos sencillos de regresión lineal para predecir el valor de una variable y a partir de otra x. Jugaremos con distintos tipos de problemas y con distintos tipos de kernel para intentar responder a las cuestiones que se plantean a continuación. \n",
        "\n",
        "Para implementar los modelos utilizaremos la clase <a href=\"http://scikit-learn.org/stable/modules/generated/sklearn.kernel_ridge.KernelRidge.html#sklearn.kernel_ridge.KernelRidge\">KernelRigde</a> del paquete *sklearn.kernel_ridge*. \n",
        "\n",
        "Para empezar, vamos a establecer el modo *inline* para las gráficas de *matplotlib*, vamos a importar las librerías *numpy* y *matplotlib.pyplot*, así como la clase *KernelRidge*, y vamos a fijar la semilla del generador de números aleatorios para que nuestros resultados sean reproducibles. "
      ]
    },
    {
      "cell_type": "code",
      "metadata": {
        "id": "2yOFOktJ0XR0",
        "colab_type": "code",
        "colab": {}
      },
      "source": [
        "%matplotlib inline\n",
        "import numpy as np\n",
        "import numpy.matlib as matl\n",
        "import matplotlib.pyplot as plt\n",
        "from sklearn.kernel_ridge import KernelRidge\n",
        "np.random.seed(13)"
      ],
      "execution_count": null,
      "outputs": []
    },
    {
      "cell_type": "markdown",
      "metadata": {
        "id": "fkI88SvV0XR6",
        "colab_type": "text"
      },
      "source": [
        "Lo que viene a continuación es la definición de la función que usaremos para crear los conjuntos de datos, que hemos llamado *createDataSet*. La función necesita los tres argumentos que se describen a continuación: \n",
        "\n",
        "- *n* es el número de puntos a generar\n",
        "- *s* es la magnitud del ruido\n",
        "- *model* es el modelo que genera los datos, puede ser 'linear', 'square' o 'sine'"
      ]
    },
    {
      "cell_type": "code",
      "metadata": {
        "id": "5WGNNczb0XR7",
        "colab_type": "code",
        "colab": {}
      },
      "source": [
        "def createDataSet(n,s,model):\n",
        "    x = np.random.rand(n, 1)*2.0*np.pi\n",
        "\n",
        "    if model == 'sine':\n",
        "        y = np.sin(x) + np.random.randn(n, 1)*s\n",
        "    elif model == 'linear':\n",
        "        y = x + np.random.randn(n, 1)*s\n",
        "    elif model == 'square':\n",
        "        y = x*x + np.random.randn(n, 1)*s\n",
        "    else:\n",
        "        y = x + np.random.randn(n, 1)*s\n",
        "    \n",
        "    return x, y"
      ],
      "execution_count": null,
      "outputs": []
    },
    {
      "cell_type": "markdown",
      "metadata": {
        "id": "Bhecf8gq0XSA",
        "colab_type": "text"
      },
      "source": [
        "También vamos a crear una función para dibujar gráficas."
      ]
    },
    {
      "cell_type": "code",
      "metadata": {
        "id": "nYgPvxrh0XSB",
        "colab_type": "code",
        "colab": {}
      },
      "source": [
        "def plotData(x,y,style,taxis,title):\n",
        "    plt.plot(x,y,style)\n",
        "    plt.grid(True)\n",
        "    plt.axis(taxis)\n",
        "    plt.xlabel(\"X\")\n",
        "    plt.ylabel(\"Y\")\n",
        "    plt.title(title)"
      ],
      "execution_count": null,
      "outputs": []
    },
    {
      "cell_type": "markdown",
      "metadata": {
        "id": "ZYUT9_D10XSG",
        "colab_type": "text"
      },
      "source": [
        "En primer lugar vamos a crear un problema lineal con dos conjuntos de datos, uno de entrenamiento y otro de test."
      ]
    },
    {
      "cell_type": "code",
      "metadata": {
        "id": "CyCi2C130XSH",
        "colab_type": "code",
        "colab": {}
      },
      "source": [
        "noise = 0.2\n",
        "model = 'linear'\n",
        "xtrain, ytrain = createDataSet(10, noise, model)\n",
        "xtest, ytest = createDataSet(10, noise, model)"
      ],
      "execution_count": null,
      "outputs": []
    },
    {
      "cell_type": "markdown",
      "metadata": {
        "id": "_sSICRCX0XSL",
        "colab_type": "text"
      },
      "source": [
        "La siguiente celda muestra las gráficas de *y* frente a *x* para los dos conjuntos de datos generados. "
      ]
    },
    {
      "cell_type": "code",
      "metadata": {
        "id": "2B-QfKAv0XSM",
        "colab_type": "code",
        "colab": {
          "base_uri": "https://localhost:8080/",
          "height": 404
        },
        "outputId": "051b79b3-edc1-424d-b2d6-7ca8b90b2782"
      },
      "source": [
        "# Ejes comunes a las dos figuras:\n",
        "taxis = [0, 2*np.pi, min(ytrain.min(), ytest.min()), max(ytrain.max(), ytest.max())]\n",
        "\n",
        "plt.figure(figsize=(12,6))\n",
        "\n",
        "# Figura para los datos de training:\n",
        "plt.subplot(121)\n",
        "plotData(xtrain,ytrain,'ro',taxis,\"Training data\")\n",
        "\n",
        "# Figura para los datos de test:\n",
        "plt.subplot(122)\n",
        "plotData(xtest,ytest,'ro',taxis,\"Test data\")"
      ],
      "execution_count": null,
      "outputs": [
        {
          "output_type": "display_data",
          "data": {
            "image/png": "[encoded data removed]",
            "text/plain": [
              "<Figure size 864x432 with 2 Axes>"
            ]
          },
          "metadata": {
            "tags": [],
            "needs_background": "light"
          }
        }
      ]
    },
    {
      "cell_type": "markdown",
      "metadata": {
        "id": "_pV4rwdP0XSS",
        "colab_type": "text"
      },
      "source": [
        "A continuación creamos el modelo de regresión utilizando la clase <a href=\"http://scikit-learn.org/stable/modules/generated/sklearn.kernel_ridge.KernelRidge.html#sklearn.kernel_ridge.KernelRidge\">KernelRidge</a>. El constructor de la clase requiere los siguientes parámetros: \n",
        "\n",
        "- *alpha*, es un parámetro de regularización, valores más altos implican modelos más simples\n",
        "\n",
        "- *kernel*, es el tipo de kernel, en esta práctica usaremos los valores 'poly' (para kernels polinómicos) y 'rbf' (para kernels RBF)\n",
        "\n",
        "- *degree*, valor del exponente P en el kernel polinómico\n",
        "\n",
        "- *coef0*, valor de la constante C en el kernel polinómico\n",
        "\n",
        "- *gamma*, valor del parámetro del kernel RBF, equivale a $1/2\\sigma^{2}$ en la notación que hemos usado nosotros\n",
        "\n",
        "Empezamos con un modelo lineal, para ello elegimos *kernel='poly'*, *degree=1* y *coef0=1*. El valor de *alpha* lo ponemos a 0.001, y el valor de *gamma* es irrelevante."
      ]
    },
    {
      "cell_type": "code",
      "metadata": {
        "id": "xqrigTEA0XST",
        "colab_type": "code",
        "colab": {}
      },
      "source": [
        "clf = KernelRidge(alpha=0.001, kernel='poly', degree=1, coef0=1, gamma=None)"
      ],
      "execution_count": null,
      "outputs": []
    },
    {
      "cell_type": "markdown",
      "metadata": {
        "id": "jXl0kmfB0XSZ",
        "colab_type": "text"
      },
      "source": [
        "Para ajustar el modelo a los datos utilizamos el método *fit* pasándole los datos del conjunto de entrenamiento."
      ]
    },
    {
      "cell_type": "code",
      "metadata": {
        "id": "9wa7un560XSa",
        "colab_type": "code",
        "colab": {
          "base_uri": "https://localhost:8080/",
          "height": 51
        },
        "outputId": "b14dfb40-07d3-4e71-8353-482381ae6d05"
      },
      "source": [
        "clf.fit(xtrain, ytrain)"
      ],
      "execution_count": null,
      "outputs": [
        {
          "output_type": "execute_result",
          "data": {
            "text/plain": [
              "KernelRidge(alpha=0.001, coef0=1, degree=1, gamma=10, kernel='poly',\n",
              "            kernel_params=None)"
            ]
          },
          "metadata": {
            "tags": []
          },
          "execution_count": 27
        }
      ]
    },
    {
      "cell_type": "markdown",
      "metadata": {
        "id": "vtHN7NwX0XSf",
        "colab_type": "text"
      },
      "source": [
        "A continuación vamos a aplicar el modelo para predecir la variable y a partir de x, tanto en los datos de entrenamiento como en los de test. Para eso usamos el método *predict*."
      ]
    },
    {
      "cell_type": "code",
      "metadata": {
        "id": "40twW4JJ0XSf",
        "colab_type": "code",
        "colab": {}
      },
      "source": [
        "ytrain_pred = clf.predict(xtrain)\n",
        "ytest_pred = clf.predict(xtest)"
      ],
      "execution_count": null,
      "outputs": []
    },
    {
      "cell_type": "markdown",
      "metadata": {
        "id": "0RZJdTGz0XSk",
        "colab_type": "text"
      },
      "source": [
        "Ahora vamos a calcular el error cometido tanto en el conjunto de entrenamiento como en el de test. Para ello comparamos los valores reales de *y* con los obtenidos a partir del modelo."
      ]
    },
    {
      "cell_type": "code",
      "metadata": {
        "id": "uecXHRON0XSl",
        "colab_type": "code",
        "colab": {
          "base_uri": "https://localhost:8080/",
          "height": 51
        },
        "outputId": "6fda7eba-36c8-4a4e-efdd-d4e04aa06b20"
      },
      "source": [
        "error_train = np.mean((ytrain-ytrain_pred)*(ytrain-ytrain_pred))\n",
        "print(\"Error de entrenamiento = %f\" % (error_train))\n",
        "error_test = np.mean((ytest-ytest_pred)*(ytest-ytest_pred))\n",
        "print(\"Error de test = %f\" % (error_test))"
      ],
      "execution_count": null,
      "outputs": [
        {
          "output_type": "stream",
          "text": [
            "Error de entrenamiento = 0.011625\n",
            "Error de test = 0.022973\n"
          ],
          "name": "stdout"
        }
      ]
    },
    {
      "cell_type": "markdown",
      "metadata": {
        "id": "5XFSlPF10XSp",
        "colab_type": "text"
      },
      "source": [
        "Y finalmente vamos a volver a pintar los datos, pero superponiendo una gráfica que representa el modelo obtenido (línea azul)."
      ]
    },
    {
      "cell_type": "code",
      "metadata": {
        "id": "0vpkUzLM0XSr",
        "colab_type": "code",
        "colab": {
          "base_uri": "https://localhost:8080/",
          "height": 404
        },
        "outputId": "f47bfb62-2e09-4108-f8ee-45f142c4f417"
      },
      "source": [
        "# Variables para el plot del modelo\n",
        "xplot = np.linspace(min(xtrain.min(),xtest.min()),max(xtrain.max(),xtest.max()),num=100)[:, None]\n",
        "yplot = clf.predict(xplot)\n",
        "\n",
        "plt.figure(figsize=(12,6))\n",
        "\n",
        "# Figura para los datos de training:\n",
        "plt.subplot(121)\n",
        "plotData(xtrain,ytrain,'ro',taxis,\"\")\n",
        "plotData(xplot,yplot,'b-',taxis,\"Training data, error = %f\" % (error_train))\n",
        "\n",
        "# Figura para los datos de test:\n",
        "plt.subplot(122)\n",
        "plotData(xtest,ytest,'ro',taxis,\"\")\n",
        "plotData(xplot,yplot,'b-',taxis,\"Test data, error = %f\" % (error_test))"
      ],
      "execution_count": null,
      "outputs": [
        {
          "output_type": "display_data",
          "data": {
            "image/png": "[encoded data removed]",
            "text/plain": [
              "<Figure size 864x432 with 2 Axes>"
            ]
          },
          "metadata": {
            "tags": [],
            "needs_background": "light"
          }
        }
      ]
    },
    {
      "cell_type": "markdown",
      "metadata": {
        "id": "C-Fz17AS0XSx",
        "colab_type": "text"
      },
      "source": [
        "La celda que sigue contiene todo el código anterior junto, para que te resulte más fácil hacer pruebas. Puedes obtener distintos conjuntos de datos y ajustar distintos modelos simplemente editando el código que aparece en ella. Los comentarios en el código indican los parámetros con los que te sugerimos que juegues. Haz las pruebas necesarias y responde a las preguntas planteadas al final."
      ]
    },
    {
      "cell_type": "code",
      "metadata": {
        "id": "f7di8_gK0XSy",
        "colab_type": "code",
        "colab": {
          "base_uri": "https://localhost:8080/",
          "height": 438
        },
        "outputId": "76be5949-16ea-4b07-bdf3-81db2baf97bf"
      },
      "source": [
        "# Generación de los datos:\n",
        "# Puedes jugar con el tipo de modelo, 'linear', 'sine' o 'square', y con \n",
        "# el nivel de ruido.\n",
        "noise = 0.2\n",
        "model = 'square'\n",
        "xtrain, ytrain = createDataSet(30, noise,model)\n",
        "xtest, ytest = createDataSet(30, noise,model)\n",
        "\n",
        "#ytrain = ytrain + 2\n",
        "#ytest = ytest + 2\n",
        "\n",
        "# Construcción del modelo:\n",
        "# Puedes jugar con los parámetros de KernelRidge.\n",
        "clf = KernelRidge(alpha=0.001, kernel='poly', degree=4, coef0=0, gamma=10)\n",
        "clf.fit(xtrain, ytrain)\n",
        "ytrain_pred = clf.predict(xtrain)\n",
        "ytest_pred = clf.predict(xtest)\n",
        "\n",
        "# Cálculo del error:\n",
        "error_train = np.mean((ytrain-ytrain_pred)*(ytrain-ytrain_pred))\n",
        "print(\"Error de entrenamiento = %f\" % (error_train))\n",
        "error_test = np.mean((ytest-ytest_pred)*(ytest-ytest_pred))\n",
        "print(\"Error de test = %f\" % (error_test))\n",
        "\n",
        "# Variables para el plot del modelo\n",
        "xplot = np.linspace(min(xtrain.min(),xtest.min()),max(xtrain.max(),xtest.max()),num=100)[:, None]\n",
        "yplot = clf.predict(xplot)\n",
        "\n",
        "# Gráficas:\n",
        "taxis = [0, 2*np.pi, min(ytrain.min(), ytest.min()), max(ytrain.max(), ytest.max())]\n",
        "plt.figure(figsize=(12,6))\n",
        "\n",
        "# Para los datos de training:\n",
        "plt.subplot(121)\n",
        "plotData(xtrain,ytrain,'ro',taxis,\"\")\n",
        "plotData(xplot,yplot,'b-',taxis,\"Training data, error = %f\" % (error_train))\n",
        "\n",
        "# Para los datos de test:\n",
        "plt.subplot(122)\n",
        "plotData(xtest,ytest,'ro',taxis,\"\")\n",
        "plotData(xplot,yplot,'b-',taxis,\"Test data, error = %f\" % (error_test))"
      ],
      "execution_count": null,
      "outputs": [
        {
          "output_type": "stream",
          "text": [
            "Error de entrenamiento = 24.709299\n",
            "Error de test = 27.974184\n"
          ],
          "name": "stdout"
        },
        {
          "output_type": "display_data",
          "data": {
            "image/png": "[encoded data removed]",
            "text/plain": [
              "<Figure size 864x432 with 2 Axes>"
            ]
          },
          "metadata": {
            "tags": [],
            "needs_background": "light"
          }
        }
      ]
    },
    {
      "cell_type": "markdown",
      "metadata": {
        "id": "AbudPLk_0XS2",
        "colab_type": "text"
      },
      "source": [
        "**Responde razonadamente a las siguientes cuestiones:**\n",
        "\n",
        "(1) Ejecuta el código con los valores iniciales, y luego cambiando el valor del exponente a diferentes valores entre 1 y 5. \n",
        "\n",
        "  - ¿Con qué kernel se obtiene un mejor resultado sobre el conjunto de entrenamiento?\n",
        "  \n",
        "  - ¿Con qué kernel se obtiene un mejor resultado sobre el conjunto de test?\n",
        "  \n",
        "  \n",
        "(2) Cambia el valor del parámetro C a 0 y ejecuta de nuevo las pruebas anteriores. Compara los resultados con los que obtuviste antes y explica las diferencias observadas.\n",
        "\n",
        "\n",
        "(3) Finalmente cambia el tipo de kernel a RBF (prueba con diferentes valores del parámetro gamma) y explica lo que observas.\n",
        "\n",
        "\n",
        "(4) Repite las pruebas anteriores con los otros dos tipos de problemas ('square' y 'sine') y explica lo que observas. Indica los parámetros que funcionan mejor para cada uno de los problemas.\n",
        "\n",
        "\n",
        "(5) Si quieres, prueba a jugar con otros parámetros (parámetro de regularización, número de puntos, nivel de ruido) e intenta explicar lo que sucede en cada caso."
      ]
    }
  ]
}