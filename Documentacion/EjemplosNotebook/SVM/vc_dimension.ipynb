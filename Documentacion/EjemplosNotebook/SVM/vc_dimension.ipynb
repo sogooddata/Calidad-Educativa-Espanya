{
 "cells": [
  {
   "cell_type": "markdown",
   "metadata": {
    "colab_type": "text",
    "id": "eEXRG4f0DUzK"
   },
   "source": [
    "### The VC dimension\n",
    "\n",
    "The VC dimension of a family of functions $f(x, \\Theta)$ is the size of the largest set that can be shattered by $f(x, \\Theta)$. In this notebook we show some simple examples in 1D.\n",
    "\n",
    "The first cell includes some necesary imports, sets the inline mode for matplotlib plots and initializes the seed for random number generation."
   ]
  },
  {
   "cell_type": "code",
   "execution_count": null,
   "metadata": {
    "colab": {},
    "colab_type": "code",
    "id": "S9mKww9xDUzM"
   },
   "outputs": [],
   "source": [
    "%matplotlib inline\n",
    "import numpy as np\n",
    "import numpy.matlib as matl\n",
    "import matplotlib.pyplot as plt\n",
    "from sklearn.svm import SVC\n",
    "from matplotlib.colors import ListedColormap\n",
    "np.random.seed(19)"
   ]
  },
  {
   "cell_type": "markdown",
   "metadata": {
    "colab_type": "text",
    "id": "_OwP0iirDUzU"
   },
   "source": [
    "The next 4 cells define functions to plot the models we will work with. We will consider always two classes (-1 and 1), class -1 is plotted in red, class 1 is plotted in blue."
   ]
  },
  {
   "cell_type": "code",
   "execution_count": null,
   "metadata": {
    "colab": {},
    "colab_type": "code",
    "id": "UYmxutqgDUzV"
   },
   "outputs": [],
   "source": [
    "def plotModel(x,clase,a,b,c,type):\n",
    "    y = np.zeros_like(x)\n",
    "    x_min = 0.0\n",
    "    x_max = 5.5 \n",
    "    hx = (x_max - x_min)/100.\n",
    "    y_min = -1.0 \n",
    "    y_max = 1.1\n",
    "    hy = 1.0\n",
    "    xx, yy = np.meshgrid(np.arange(x_min, x_max, hx), np.arange(y_min, y_max, hy))\n",
    "    \n",
    "    if type == \"linear\":\n",
    "        z = a*xx+b\n",
    "    elif type == \"square\":\n",
    "        z = a*xx*xx+b*xx+c\n",
    "    elif type == \"sine\":\n",
    "        z = np.sin(a*xx)\n",
    "    else:\n",
    "        z = a*xx+b\n",
    "        \n",
    "    m1 = np.abs(z.max())\n",
    "    m2 = np.abs(z.min())\n",
    "    m = np.max([m1,m2])\n",
    "    v = np.linspace(-m, m, 10, endpoint=True)\n",
    "    \n",
    "    plt.figure(figsize=(12,2))\n",
    "    \n",
    "    cm = plt.cm.RdBu\n",
    "    cm_bright = ListedColormap(['#FF0000', '#0000FF'])\n",
    "    plt.contourf(xx, yy, z, v, cmap=cm, alpha=.8)\n",
    "    plt.contour(xx, yy, z, [0], linewidths=[2], colors=['k'])\n",
    "\n",
    "    plt.scatter(x[clase==-1], y[clase==-1], c='#FF0000', s=200)\n",
    "    plt.scatter(x[clase==1], y[clase==1], c='#0000FF', s=200)\n",
    "    plt.gca().set_xlim(xx.min(), xx.max())\n",
    "    plt.gca().set_ylim(yy.min(), yy.max())\n",
    "    plt.grid(True)\n",
    "    plt.xlabel(\"X\")\n",
    "    plt.ylabel(\"Y\")\n",
    "    plt.axis([0,5,-1,1])\n",
    "    plt.title(type)"
   ]
  },
  {
   "cell_type": "code",
   "execution_count": null,
   "metadata": {
    "colab": {},
    "colab_type": "code",
    "id": "FKqpSyKSDUzb"
   },
   "outputs": [],
   "source": [
    "def plotModelLinear(x,clase,a,b):\n",
    "    plotModel(x,clase,a,b,0,\"linear\")"
   ]
  },
  {
   "cell_type": "code",
   "execution_count": null,
   "metadata": {
    "colab": {},
    "colab_type": "code",
    "id": "wKOueZXgDUzh"
   },
   "outputs": [],
   "source": [
    "def plotModelSquare(x,clase,a,b,c):\n",
    "    plotModel(x,clase,a,b,c,\"square\")"
   ]
  },
  {
   "cell_type": "code",
   "execution_count": null,
   "metadata": {
    "colab": {},
    "colab_type": "code",
    "id": "VsHr1uVvDUzn"
   },
   "outputs": [],
   "source": [
    "def plotModelSine(x,clase,a):\n",
    "    plotModel(x,clase,a,0,0,\"sine\")"
   ]
  },
  {
   "cell_type": "markdown",
   "metadata": {
    "colab_type": "text",
    "id": "3idHNSynDUzt"
   },
   "source": [
    "The following cell creates some data in 1D."
   ]
  },
  {
   "cell_type": "code",
   "execution_count": null,
   "metadata": {
    "colab": {},
    "colab_type": "code",
    "id": "VahHuKTLDUzu"
   },
   "outputs": [],
   "source": [
    "x = np.array([1,2,3])\n",
    "clase = np.array([-1, 1, -1])"
   ]
  },
  {
   "cell_type": "markdown",
   "metadata": {
    "colab_type": "text",
    "id": "QtA7Tp7hDUz0"
   },
   "source": [
    "#### Linear Model:\n",
    "\n",
    "The linear model uses the classification function $f(x) = ax + b$. To find the boundary we can make $f(x) = 0$ to obtain:\n",
    "\n",
    "$$\n",
    "x_{0} = \\frac{-b}{a}\n",
    "$$\n",
    "\n",
    "This boundary splits the $x$ axis into two regions: \n",
    "\n",
    "- $x < x_{0}$, of class given by $-\\mathop{\\mathrm{sign}}(a)$\n",
    "- $x \\geq x_{0}$, of class given by $\\mathop{\\mathrm{sign}}(a)$ \n",
    "\n",
    "In the following example we have $a = -1$ and $b = 2.5$. So the boundary is established at $x_{0} = -b/a = 2.5$ and the positive class (blue) is on the left.\n",
    "\n",
    "Try to find values of $a$ and $b$ for the class assignments [-1, -1, 1] and [1, 1, 1]. Is it possible to solve for the class assignments [1, -1, 1]?"
   ]
  },
  {
   "cell_type": "code",
   "execution_count": null,
   "metadata": {
    "colab": {
     "base_uri": "https://localhost:8080/",
     "height": 187
    },
    "colab_type": "code",
    "id": "sNP2RA_dDUz1",
    "outputId": "279b0f5f-4cba-4417-8d2b-98d1ec30f1ab"
   },
   "outputs": [
    {
     "data": {
      "image/png": "[encoded data removed]",
      "text/plain": [
       "<Figure size 864x144 with 1 Axes>"
      ]
     },
     "metadata": {
      "needs_background": "light",
      "tags": []
     },
     "output_type": "display_data"
    }
   ],
   "source": [
    "a = 1.0\n",
    "b = -2.5\n",
    "plotModelLinear(x,clase,a,b)"
   ]
  },
  {
   "cell_type": "markdown",
   "metadata": {
    "colab_type": "text",
    "id": "IdRjco03DUz8"
   },
   "source": [
    "#### Quadratic Model:\n",
    "\n",
    "The quadratic model (square) uses the classification function $f(x) = ax^{2} + bx +c$. To find the boundary we can make $f(x) = 0$ to obtain:\n",
    "\n",
    "$$\n",
    "x_{0} = \\frac{-b \\pm \\sqrt{b^{2} - 4ac}}{2a}\n",
    "$$\n",
    "\n",
    "We can consider the following cases:\n",
    "\n",
    "**Case 1:** When $b^{2} - 4ac < 0$ there are no real solutions for $x_{0}$, so all the points belong to the same class. This class is -1 when $a<0$ and 1 when $a \\geq 0$. Check for example the cases $a = 1$, $b=0$, $c=1$ or $a = -1$, $b=0$, $c=-1$.\n",
    "\n",
    "**Case 2:** When $b^{2} - 4ac = 0$ there is just one real solution for $x_{0}$, at $x_{0} = -b/2a$. All the points (maybe with the exception $x=x_{0}$ belong to the same class. As before, this class is -1 when $a<0$ and 1 when $a \\geq 0$. When $x=x_{0}$ we have $f(x) = 0$ and the class at this point will be usually 1. Check for example the cases $a = 1$, $b=-4$, $c=4$ or $a = -1$, $b=4$, $c=-4$.\n",
    "\n",
    "**Case 3:** When $b^{2} - 4ac > 0$ there are two real solutions for $x_{0}$, that split the $x$ axis into 3 regions:\n",
    "\n",
    "- Class 1 in the middle and class -1 in both sides when $a < 0$.\n",
    "- Class -1 in the middle and class 1 in both sides when $a > 0$.\n",
    "\n",
    "Consider for example the cases $a = 1$, $b=-3$, $c=0.5$ or $a = -1$, $b=3$, $c=-0.5$.\n",
    "\n",
    "\n",
    "Try to find values of $a$, $b$ and $c$ for the class assignments [-1, -1, 1] and [1, 1, 1]. Is it possible to solve for the class assignments [1, -1, 1]?"
   ]
  },
  {
   "cell_type": "code",
   "execution_count": null,
   "metadata": {
    "colab": {
     "base_uri": "https://localhost:8080/",
     "height": 187
    },
    "colab_type": "code",
    "id": "MDRI8kfpDUz-",
    "outputId": "e8405e43-0ea7-47f0-fb1d-32682aa4ec58"
   },
   "outputs": [
    {
     "data": {
      "image/png": "[encoded data removed]",
      "text/plain": [
       "<Figure size 864x144 with 1 Axes>"
      ]
     },
     "metadata": {
      "needs_background": "light",
      "tags": []
     },
     "output_type": "display_data"
    }
   ],
   "source": [
    "plotModelSquare(x,clase,1.0,-3.0,0.5)"
   ]
  },
  {
   "cell_type": "markdown",
   "metadata": {
    "colab_type": "text",
    "id": "WBejO16PDU0D"
   },
   "source": [
    "#### Sinusoidal Model:\n",
    "\n",
    "The sinusoidal model (sine) uses the classification function $f(x) = \\sin(ax)$. To find the boundary we can make $f(x) = 0$ to obtain:\n",
    "\n",
    "$$\n",
    "x_{0} = \\frac{n \\pi}{a}\n",
    "$$\n",
    "\n",
    "where $n$ is any integer number. This boundary splits the $x$ axis into an infinite number of regions of alternating classes 1, -1, 1, -1,... \n",
    "\n",
    "In the following example we have $a = 1$ and so the boundary is set at multiples of $\\pi$. \n",
    "\n",
    "Try to find the value of $a$ for the class assignments [-1, -1, 1] and [1, 1, 1]. Is it possible to solve for the class assignments [1, -1, 1]?"
   ]
  },
  {
   "cell_type": "code",
   "execution_count": null,
   "metadata": {
    "colab": {
     "base_uri": "https://localhost:8080/",
     "height": 187
    },
    "colab_type": "code",
    "id": "mzG_zYXUDU0E",
    "outputId": "807dea6a-4d79-4cb0-ab99-14dee636af13"
   },
   "outputs": [
    {
     "data": {
      "image/png": "[encoded data removed]",
      "text/plain": [
       "<Figure size 864x144 with 1 Axes>"
      ]
     },
     "metadata": {
      "needs_background": "light",
      "tags": []
     },
     "output_type": "display_data"
    }
   ],
   "source": [
    "a = 1\n",
    "plotModelSine(x,clase,a)"
   ]
  },
  {
   "cell_type": "markdown",
   "metadata": {
    "colab_type": "text",
    "collapsed": true,
    "id": "UB8iTG04DU0J"
   },
   "source": [
    "#### Exercise 1:\n",
    "\n",
    "1. Can all the models solve all the problems?\n",
    "2. Which model would you say is the most complex? Why?\n",
    "3. How would you measure the complexity of any other model?"
   ]
  },
  {
   "cell_type": "markdown",
   "metadata": {
    "colab_type": "text",
    "collapsed": true,
    "id": "ZCcQDWoTDU0K"
   },
   "source": [
    "#### Exercise 2:\n",
    "\n",
    "1. Which is the VC dimension of the linear model?\n",
    "2. Which is the VC dimension of the square model?\n",
    "3. Which is the VC dimension of the sinusoidal model?"
   ]
  }
 ],
 "metadata": {
  "colab": {
   "name": "vc-dimension.ipynb",
   "provenance": []
  },
  "kernelspec": {
   "display_name": "Python 3",
   "language": "python",
   "name": "python3"
  },
  "language_info": {
   "codemirror_mode": {
    "name": "ipython",
    "version": 3
   },
   "file_extension": ".py",
   "mimetype": "text/x-python",
   "name": "python",
   "nbconvert_exporter": "python",
   "pygments_lexer": "ipython3",
   "version": "3.7.3"
  }
 },
 "nbformat": 4,
 "nbformat_minor": 1
}
