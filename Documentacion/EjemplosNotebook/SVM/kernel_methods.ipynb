{
  "nbformat": 4,
  "nbformat_minor": 0,
  "metadata": {
    "kernelspec": {
      "display_name": "Python 3",
      "language": "python",
      "name": "python3"
    },
    "language_info": {
      "codemirror_mode": {
        "name": "ipython",
        "version": 3
      },
      "file_extension": ".py",
      "mimetype": "text/x-python",
      "name": "python",
      "nbconvert_exporter": "python",
      "pygments_lexer": "ipython3",
      "version": "3.7.1"
    },
    "colab": {
      "name": "kernel_methods.ipynb",
      "provenance": []
    }
  },
  "cells": [
    {
      "cell_type": "markdown",
      "metadata": {
        "id": "we-8E2hX06th",
        "colab_type": "text"
      },
      "source": [
        "<font color=\"#04B404\"><h1 align=\"center\">Máster en Big Data y Data Science</h1></font>\n",
        "<font color=\"#6E6E6E\"><h2 align=\"center\">Análisis de datos</h2></font>"
      ]
    },
    {
      "cell_type": "markdown",
      "metadata": {
        "id": "kwcM-uLp06tk",
        "colab_type": "text"
      },
      "source": [
        "# <font color=\"#04B404\">Kernel Methods</font>"
      ]
    },
    {
      "cell_type": "markdown",
      "metadata": {
        "id": "JMtlYRma06tm",
        "colab_type": "text"
      },
      "source": [
        "### Introduction\n",
        "\n",
        "**Parametric models for classification/regression:**\n",
        "\n",
        "- The objective is to learn a set of adaptive parameters ${\\bf w}$ which determine the mapping from the input ${\\bf x}$ to the target $y$:\n",
        "\n",
        "$$\n",
        "\\hat{y} = f({\\bf x},{\\bf w})\n",
        "$$ \n",
        "\n",
        "- Need of a training phase\n",
        "\n",
        "- One example is linear regression:\n",
        "\n",
        "$$\n",
        "\\hat{y} = {\\bf w}^{T}  \\boldsymbol{\\phi} ({\\bf x}) = \\sum_{j=1}^{M} w_{j} \\phi_{j}({\\bf x})\n",
        "$$\n",
        "\n",
        "**Non-parametric models:**\n",
        "\n",
        "- A subset of the input data points are used during classification\n",
        "\n",
        "- No training is needed, but methods are slow at making predictions\n",
        "\n",
        "- Parzen windows, Nearest Neighbors, etc.\n",
        "\n",
        "**Dual formulation:**\n",
        "\n",
        "- Some linear parametric models can be reformulated using a *dual representation*\n",
        "\n",
        "- The predictions on the test data are based only on a linear combination of a *kernel* function which is evaluated on a subset of the training data\n",
        "\n",
        "- Somehow we manage to express the parametric model as a non-parametric one \n",
        "\n",
        "- One of such models is *regularized linear regression*"
      ]
    },
    {
      "cell_type": "markdown",
      "metadata": {
        "id": "3kcieTDm06to",
        "colab_type": "text"
      },
      "source": [
        "### Regularized linear regression\n",
        "\n",
        "**Fit a linear model to a data set:**\n",
        "\n",
        "- We have a set of observations given by pairs $({\\bf x}, y)$, where ${\\bf x} = (x_{1}, x_{2}, ..., x_{d})^{T}$ is the *input* or independent variable and $y$ is the *target* or dependent variable.\n",
        "\n",
        "- The objective is to find a linear model that estimates $y$ from ${\\bf x}$:\n",
        "\n",
        "$$\n",
        "\\hat{y} =  w_{0} + w_{1} x_{1} + w_{2} x_{2} + ... + w_{d} x_{d} \n",
        "$$\n",
        "\n",
        "- For example, in 1D the model is a line, $\\hat{y} =  w_{0} + w_{1} x_{1}$:\n",
        "\n",
        "<table>\n",
        "  <tr>\n",
        "    <td><img src=\"https://drive.google.com/uc?id=1oh78WdxUSRNnpTuXELsc8mQHqKJHMMmL\" width=\"300\"></td>\n",
        "  </tr>\n",
        "</table>\n",
        "\n",
        "- We usually assume the existence of an aditional variable, $x_{0}$, whose value is always $x_{0} = 1$. This allows  to write the previous expression in a more compact form as:\n",
        "\n",
        "$$\n",
        "\\hat{y} =  w_{0} x_{0} + w_{1} x_{1} + ... + w_{d} x_{d} = {\\bf w}^{T} \\tilde{{\\bf x}}\n",
        "$$\n",
        "\n",
        "- Where ${\\bf w} = (w_{0}, w_{1}, ..., w_{d})^{T}$ and $\\tilde{{\\bf x}} = (1, x_{1}, ..., x_{d})^{T}$\n",
        "\n",
        "**And what if the intrinsic model is not linear?**\n",
        "\n",
        "<table>\n",
        "  <tr>\n",
        "    <td><img src=\"https://drive.google.com/uc?id=1zWt7ziYVe1BHm_Ymwry3kPu43j-aI8WT\" width=\"300\"></td>\n",
        "    <td><img src=\"https://drive.google.com/uc?id=16w3R9hP1v2NZbH7oMV68Rl4urO5Pe3rj\" width=\"300\"></td>\n",
        "  </tr>\n",
        "</table>\n",
        "\n",
        "- We can try to fit a non-linear model to the input data\n",
        "\n",
        "- Or we can transform the input space ${\\bf x} = (x_{1}, x_{2}, ..., x_{d})^{T}$ into a new set of attributes $\\boldsymbol{\\phi} ({\\bf x})$ and keep the linear approach. \n",
        "\n",
        "- The non-linearity is captured by the new attributes:\n",
        "\n",
        "$$\n",
        "\\boldsymbol{\\phi} ({\\bf x}) = (\\phi_{1}({\\bf x}),\\phi_{2}({\\bf x}),...,\\phi_{M}({\\bf x}))^{T}\n",
        "$$\n",
        "\n",
        "- While the linearity of the model keeps things simple\n",
        "\n",
        "- The new model is:\n",
        "\n",
        "$$\n",
        "\\hat{y} =  w_{1} \\phi_{1}({\\bf x}) + w_{2} \\phi_{2}({\\bf x}) + ... + w_{M} \\phi_{M}({\\bf x}) = {\\bf w}^{T}  \\boldsymbol{\\phi} ({\\bf x})\n",
        "$$\n",
        "\n",
        "- For example, the models (blue lines) for the two datasets above have been fitted using the attributes $\\boldsymbol{\\phi} (x) = (x^{2}, x, 1)^{T}$ and $\\boldsymbol{\\phi} (x) = (x^{4}, x^{3}, x^{2}, x, 1)^{T}$ respectively.\n",
        "\n",
        "**Regularization:**\n",
        "\n",
        "- Note the importance of a mechanism that controls the model complexity\n",
        "\n",
        "<table>\n",
        "  <tr>\n",
        "    <td><img src=\"https://drive.google.com/uc?id=10AqcfC9GgnO5Qd7RUALmliOPKaFklxag\" width=\"300\"></td>\n",
        "  </tr>\n",
        "</table>\n",
        "\n",
        "- We usually find the model parameters $w_{i}$ by minimization of the regularized error function:\n",
        "\n",
        "$$\n",
        "J({\\bf w}) = \\frac{1}{2} \\sum_{i=1}^{N}\\{y_{i} - \\hat{y}_{i}\\}^{2} + \\frac{\\lambda}{2} ||{\\bf w}||^{2} = \\frac{1}{2} \\sum_{i=1}^{N}\\{y_{i} - {\\bf w}^{T}  \\boldsymbol{\\phi} ({\\bf x}_{i})\\}^{2} + \\frac{\\lambda}{2} ||{\\bf w}||^{2}\n",
        "$$\n",
        "\n",
        "- The first term is the square error, it measures the difference between the real $y$ and the estimation $\\hat{y}$.  The sum is over all input data\n",
        "\n",
        "- The second term penalizes models with many parameters, its aim is to control the model complexity. The constant $\\lambda$ is called *regularization parameter* \n",
        "\n",
        "- To minimize $J({\\bf w})$ we compute the gradient and equal to 0:\n",
        "\n",
        "$$\n",
        "\\frac{\\partial J({\\bf w})}{\\partial w_{k}} = 0\n",
        "$$\n",
        "\n",
        "- A full derivation of the regularized linear regression equations can be found in the [appendix](#scrollTo=yA3b0gZB06u2). The final solution can be expressed in two different forms:\n",
        "\n",
        "**Primal formulation:**\n",
        "\n",
        "- The estimation of the target is expressed as a sum over attributes:\n",
        "\n",
        "$$\n",
        "\\hat{y} ({\\bf x}) =  \\sum_{j=1}^{M} w_{j} \\phi_{j}({\\bf x}) = w_{1} \\phi_{1}({\\bf x}) + w_{2} \\phi_{2}({\\bf x}) + ... + w_{M} \\phi_{M}({\\bf x}) \n",
        "$$\n",
        "\n",
        "- Where $\\boldsymbol{\\phi} ({\\bf x}) = (\\phi_{1}({\\bf x}),\\phi_{2}({\\bf x}),...,\\phi_{M}({\\bf x}))^{T}$ is the attribute vector and ${\\bf w}$ is the solution to the equation:\n",
        "\n",
        "$$\n",
        "({\\bf A} + \\lambda I) {\\bf w} = \\boldsymbol{\\Phi}^{T} {\\bf y}\n",
        "$$\n",
        "\n",
        "- The $N \\times M$ matrix $\\boldsymbol{\\Phi}$ is called the *design matrix*, and its rows are the attribute vectors of all the input data, $\\Phi_{ij} = \\phi_{j}({\\bf x}_{i})$:\n",
        "\n",
        "$$ \n",
        "\\boldsymbol{\\Phi} = \\left( \n",
        "\\begin{array}{cccc}\n",
        "\\phi_{1}({\\bf x}_{1}) & \\phi_{2}({\\bf x}_{1})  & ... & \\phi_{M}({\\bf x}_{1})  \\\\\n",
        "\\phi_{1}({\\bf x}_{2}) & \\phi_{2}({\\bf x}_{2})  & ... & \\phi_{M}({\\bf x}_{2})  \\\\\n",
        "... & ... & ... & ...\\\\   \n",
        "\\phi_{1}({\\bf x}_{N}) & \\phi_{2}({\\bf x}_{N})  & ... & \\phi_{M}({\\bf x}_{N})  \\\\\n",
        "\\end{array} \n",
        "\\right)\n",
        "$$ \n",
        "\n",
        "- The matrix ${\\bf A}$ is ${\\bf A} = \\boldsymbol{\\Phi}^{T} \\boldsymbol{\\Phi}$, and ${\\bf y}$ is the vector of targets, ${\\bf y} = (y_{1}, y_{2}, ..., y_{N})^{T}$\n",
        "\n",
        "**Dual formulation:**\n",
        "\n",
        "- The estimation of the target is expressed as a sum over input patterns:\n",
        "\n",
        "$$\n",
        "\\hat{y} ({\\bf x}) =  \\sum_{i=1}^{N} a_{i} k({\\bf x}_{i},{\\bf x}) = a_{1} k({\\bf x}_{1},{\\bf x}) + a_{2} k({\\bf x}_{2},{\\bf x}) + ... + a_{N} k({\\bf x}_{N},{\\bf x})\n",
        "$$\n",
        "\n",
        "- Where $k({\\bf x}_{i},{\\bf x}) = \\boldsymbol{\\phi} ({\\bf x}_{i})^{T} \\boldsymbol{\\phi} ({\\bf x})$ is *kernel function*, which represents a dot product in the attribute space\n",
        "\n",
        "- To obtain the parameters $a_{i}$ we must solve the equation: \n",
        "\n",
        "$$\n",
        "({\\bf K} + \\lambda I) {\\bf a} = {\\bf y}\n",
        "$$\n",
        "\n",
        "- Where ${\\bf K} = \\boldsymbol{\\Phi} \\boldsymbol{\\Phi}^{T}$ is a $N \\times N$ matrix, ${\\bf a} = (a_{1}, a_{2}, ..., a_{N})^{T}$ and ${\\bf y}$ is as before.\n",
        "\n",
        "**Primal vs dual:**\n",
        "\n",
        "The dual problem is in general more difficult to solve than the primal one, as we usually have $N \\gg M$\n",
        "\n",
        "However it presents the following **advantages**:\n",
        "\n",
        "- We do not need to compute $\\boldsymbol{\\phi} ({\\bf x})$ explicitly as far as a kernel function exists. Note that $\\boldsymbol{\\phi} ({\\bf x})$ appears only through dot products of the form $\\boldsymbol{\\phi} ({\\bf x})^{T} \\boldsymbol{\\phi} ({\\bf z})$, which can be evaluated as $k({\\bf x}, {\\bf z})$\n",
        "\n",
        "- The complexity of the problem does not depend on the dimension of the attribute space, but only on the number of data points. We can consider attribute spaces of arbitrarily high dimension (even infinite-dimensional spaces) at the same cost. Note that the elements of the matrix ${\\bf K}$ are simply:\n",
        "  \n",
        "$$\n",
        "{\\bf K}_{ij} = \\boldsymbol{\\phi} ({\\bf x}_{i})^{T} \\boldsymbol{\\phi} ({\\bf x}_{j}) = k({\\bf x}_{i},{\\bf x}_{j})\n",
        "$$"
      ]
    },
    {
      "cell_type": "markdown",
      "metadata": {
        "id": "CbIiDgP-06tq",
        "colab_type": "text"
      },
      "source": [
        "### An example with python (primal formulation)\n",
        "\n",
        "- Six pairs $(x; y)$: $\\{(1; 0.8), (3; 3.4), (4; 4.1), (6; 6.2), (7; 6.6), (9; 8.5)\\}$\n",
        "\n",
        "- We consider the vector of attributes $\\boldsymbol{\\phi}(x) = (1, x)^{T}$\n",
        "\n",
        "- The regularization parameter is $\\lambda = 1$\n",
        "\n",
        "To do it in python we first import the necessary libraries:\n",
        "- *numpy* for scientific computing\n",
        "- *matplotlib.pyplot* for plots and graphics\n",
        "\n",
        "We also set the ```%matplotlib inline``` option to display plots inline: "
      ]
    },
    {
      "cell_type": "code",
      "metadata": {
        "id": "repXAr1v06tr",
        "colab_type": "code",
        "colab": {}
      },
      "source": [
        "# Import libraries\n",
        "%matplotlib inline\n",
        "import numpy as np\n",
        "import matplotlib.pyplot as plt"
      ],
      "execution_count": null,
      "outputs": []
    },
    {
      "cell_type": "markdown",
      "metadata": {
        "id": "nmofrXgq06tx",
        "colab_type": "text"
      },
      "source": [
        "Next we create and plot the data. "
      ]
    },
    {
      "cell_type": "code",
      "metadata": {
        "id": "rg2sal_T06ty",
        "colab_type": "code",
        "colab": {
          "base_uri": "https://localhost:8080/",
          "height": 534
        },
        "outputId": "0f6d4f73-bf4c-4b16-d4bd-49cec744366f"
      },
      "source": [
        "# Data (x, y):\n",
        "x = np.array([1, 3, 4, 6, 7, 9])[:, None]\n",
        "y = np.array([0.8, 3.4, 4.1, 6.2, 6.6, 8.5])[:, None]\n",
        "n = x.shape[0]\n",
        "m = 2\n",
        "\n",
        "# Print data set:\n",
        "print(\"x = \")\n",
        "print(x)\n",
        "print()\n",
        "print(\"y = \")\n",
        "print(y) \n",
        "\n",
        "# Plot data:\n",
        "plt.figure()\n",
        "plt.plot(x,y,'ro') \n",
        "plt.grid(True)\n",
        "plt.xlabel(\"X\")\n",
        "plt.ylabel(\"Y\")\n",
        "plt.show()"
      ],
      "execution_count": null,
      "outputs": [
        {
          "output_type": "stream",
          "text": [
            "x = \n",
            "[[1]\n",
            " [3]\n",
            " [4]\n",
            " [6]\n",
            " [7]\n",
            " [9]]\n",
            "\n",
            "y = \n",
            "[[0.8]\n",
            " [3.4]\n",
            " [4.1]\n",
            " [6.2]\n",
            " [6.6]\n",
            " [8.5]]\n"
          ],
          "name": "stdout"
        },
        {
          "output_type": "display_data",
          "data": {
            "image/png": "[encoded data removed]",
            "text/plain": [
              "<Figure size 432x288 with 1 Axes>"
            ]
          },
          "metadata": {
            "tags": [],
            "needs_background": "light"
          }
        }
      ]
    },
    {
      "cell_type": "markdown",
      "metadata": {
        "id": "QgoqsG7806t3",
        "colab_type": "text"
      },
      "source": [
        "Then we do the linear regression. Let us proceed step by step. \n",
        "\n",
        "**(1)** We compute the design matrix, whose rows are the transpose of the attribute vectors of every point in the data set. \n",
        "\n",
        "$$\n",
        "\\boldsymbol{\\Phi} = \\left( \n",
        "\\begin{array}{cc}\n",
        "1 & x_{1}\\\\\n",
        "1 & x_{2}\\\\\n",
        "1 & x_{3}\\\\\n",
        "1 & x_{4}\\\\\n",
        "1 & x_{5}\\\\\n",
        "1 & x_{6}\\\\\n",
        "\\end{array} \n",
        "\\right) =\n",
        "\\left( \n",
        "\\begin{array}{cc}\n",
        "1 & 1\\\\\n",
        "1 & 3\\\\\n",
        "1 & 4\\\\\n",
        "1 & 6\\\\\n",
        "1 & 7\\\\\n",
        "1 & 9\\\\\n",
        "\\end{array} \n",
        "\\right)\n",
        "$$\n",
        "\n"
      ]
    },
    {
      "cell_type": "code",
      "metadata": {
        "id": "JBakHJZH06t4",
        "colab_type": "code",
        "colab": {
          "base_uri": "https://localhost:8080/",
          "height": 119
        },
        "outputId": "37366725-7e10-4a63-8fee-96cb876c5ba4"
      },
      "source": [
        "# Design matrix:\n",
        "phi = np.concatenate((np.ones([n,1]), x),axis = 1)\n",
        "print(phi)"
      ],
      "execution_count": null,
      "outputs": [
        {
          "output_type": "stream",
          "text": [
            "[[1. 1.]\n",
            " [1. 3.]\n",
            " [1. 4.]\n",
            " [1. 6.]\n",
            " [1. 7.]\n",
            " [1. 9.]]\n"
          ],
          "name": "stdout"
        }
      ]
    },
    {
      "cell_type": "markdown",
      "metadata": {
        "id": "Bsux87VD06t9",
        "colab_type": "text"
      },
      "source": [
        "**(2)** We compute the matrix ${\\bf A}$ as ${\\bf A} = \\boldsymbol{\\Phi}^{T} \\boldsymbol{\\Phi}$:"
      ]
    },
    {
      "cell_type": "code",
      "metadata": {
        "id": "xpOz_1R006t-",
        "colab_type": "code",
        "colab": {
          "base_uri": "https://localhost:8080/",
          "height": 51
        },
        "outputId": "ee358fc6-2fd7-4f39-bec2-f5909a798ede"
      },
      "source": [
        "# Matrix A:\n",
        "A = np.dot(phi.transpose(), phi)\n",
        "print(A)"
      ],
      "execution_count": null,
      "outputs": [
        {
          "output_type": "stream",
          "text": [
            "[[  6.  30.]\n",
            " [ 30. 192.]]\n"
          ],
          "name": "stdout"
        }
      ]
    },
    {
      "cell_type": "markdown",
      "metadata": {
        "id": "MNOdIrb906uC",
        "colab_type": "text"
      },
      "source": [
        "**(3)** We compute the vector $\\boldsymbol{\\Phi}^{T} {\\bf y}$ and we call it ${\\bf b}$:"
      ]
    },
    {
      "cell_type": "code",
      "metadata": {
        "id": "VczzRuEt06uD",
        "colab_type": "code",
        "colab": {
          "base_uri": "https://localhost:8080/",
          "height": 51
        },
        "outputId": "ca330ea2-c03e-46fe-f74c-dc52a3c5d2f2"
      },
      "source": [
        "# Vector b:\n",
        "b = np.dot(phi.transpose(), y)\n",
        "print(b)"
      ],
      "execution_count": null,
      "outputs": [
        {
          "output_type": "stream",
          "text": [
            "[[ 29.6]\n",
            " [187.3]]\n"
          ],
          "name": "stdout"
        }
      ]
    },
    {
      "cell_type": "markdown",
      "metadata": {
        "id": "yngsXUOs06uI",
        "colab_type": "text"
      },
      "source": [
        "**(4)** We compute the matrix $({\\bf A} + \\lambda I)$ and we call it ${\\bf Q}$:"
      ]
    },
    {
      "cell_type": "code",
      "metadata": {
        "id": "DIUluDxb06uJ",
        "colab_type": "code",
        "colab": {
          "base_uri": "https://localhost:8080/",
          "height": 51
        },
        "outputId": "56bb0903-9c8d-4096-eb7a-ff5665f86f1f"
      },
      "source": [
        "# Matrix Q, l is the regularization parameter:\n",
        "l = 1.\n",
        "Q = A + l*np.eye(m);\n",
        "print(Q)"
      ],
      "execution_count": null,
      "outputs": [
        {
          "output_type": "stream",
          "text": [
            "[[  7.  30.]\n",
            " [ 30. 193.]]\n"
          ],
          "name": "stdout"
        }
      ]
    },
    {
      "cell_type": "markdown",
      "metadata": {
        "id": "WFQA2E9V06uN",
        "colab_type": "text"
      },
      "source": [
        "**(5)** Now we have to solve the problem:\n",
        "\n",
        "$$\n",
        "({\\bf A} + \\lambda I) {\\bf w} =  \\boldsymbol{\\Phi}^{T} {\\bf y}\n",
        "$$\n",
        "\n",
        "Or equivalently:\n",
        "\n",
        "$$\n",
        "{\\bf Q} {\\bf w} = {\\bf b}\n",
        "$$\n",
        "\n",
        "With\n",
        "\n",
        "$$\n",
        "{\\bf Q} = {\\bf A} + \\lambda I\n",
        "$$\n",
        "\n",
        "and \n",
        "\n",
        "$$\n",
        "{\\bf b} = \\boldsymbol{\\Phi}^{T} {\\bf y}\n",
        "$$"
      ]
    },
    {
      "cell_type": "markdown",
      "metadata": {
        "id": "MqGPaNKX06uO",
        "colab_type": "text"
      },
      "source": [
        "We solve the linear system with <a href=\"http://docs.scipy.org/doc/numpy/reference/generated/numpy.linalg.solve.html\">numpy.linalg.solve</a>:"
      ]
    },
    {
      "cell_type": "code",
      "metadata": {
        "id": "ZAKaID8i06uP",
        "colab_type": "code",
        "colab": {
          "base_uri": "https://localhost:8080/",
          "height": 51
        },
        "outputId": "a4f2a321-f758-467e-9d98-77081d92ec92"
      },
      "source": [
        "# Solve the system Qw = b:\n",
        "w = np.linalg.solve(Q, b)\n",
        "print(w)"
      ],
      "execution_count": null,
      "outputs": [
        {
          "output_type": "stream",
          "text": [
            "[[0.20798226]\n",
            " [0.93813747]]\n"
          ],
          "name": "stdout"
        }
      ]
    },
    {
      "cell_type": "markdown",
      "metadata": {
        "id": "zQGcGVQ_06uT",
        "colab_type": "text"
      },
      "source": [
        "**(6)** And finally we obtain the vector of target estimations as $\\hat{{\\bf y}}_{primal} = \\boldsymbol{\\Phi} {\\bf w}$, and plot the results:"
      ]
    },
    {
      "cell_type": "code",
      "metadata": {
        "id": "zKZjFJaV06uU",
        "colab_type": "code",
        "colab": {
          "base_uri": "https://localhost:8080/",
          "height": 282
        },
        "outputId": "d635a5e8-2999-491e-8484-f5d663254720"
      },
      "source": [
        "# Estimation of y:\n",
        "yprimal = np.dot(phi, w)\n",
        "\n",
        "# Plot:\n",
        "plt.figure()\n",
        "plt.plot(x,y,'ro',x,yprimal,'b-') \n",
        "plt.grid(True)\n",
        "plt.xlabel(\"X\")\n",
        "plt.ylabel(\"Y\")\n",
        "plt.show()"
      ],
      "execution_count": null,
      "outputs": [
        {
          "output_type": "display_data",
          "data": {
            "image/png": "[encoded data removed]",
            "text/plain": [
              "<Figure size 432x288 with 1 Axes>"
            ]
          },
          "metadata": {
            "tags": [],
            "needs_background": "light"
          }
        }
      ]
    },
    {
      "cell_type": "markdown",
      "metadata": {
        "id": "YuZHV5k406uY",
        "colab_type": "text"
      },
      "source": [
        "### An example with python (dual formulation)\n",
        "\n",
        "**(1)** First we compute the kernel matrix ${\\bf K} = \\boldsymbol{\\Phi} \\boldsymbol{\\Phi}^{T}$. Note that this matrix is $6 \\times 6$ ($6$ is the number of patterns) while the matrix ${\\bf A}$ was $2 \\times 2$ ($2$ is the dimension of the attribute space)."
      ]
    },
    {
      "cell_type": "code",
      "metadata": {
        "id": "OQ7pH4bT06uZ",
        "colab_type": "code",
        "colab": {
          "base_uri": "https://localhost:8080/",
          "height": 119
        },
        "outputId": "c94a6631-2aca-4d36-9b97-fe2a4cd9517b"
      },
      "source": [
        "# Matriz K:\n",
        "K = np.dot(phi, phi.transpose())\n",
        "print(K)"
      ],
      "execution_count": null,
      "outputs": [
        {
          "output_type": "stream",
          "text": [
            "[[ 2.  4.  5.  7.  8. 10.]\n",
            " [ 4. 10. 13. 19. 22. 28.]\n",
            " [ 5. 13. 17. 25. 29. 37.]\n",
            " [ 7. 19. 25. 37. 43. 55.]\n",
            " [ 8. 22. 29. 43. 50. 64.]\n",
            " [10. 28. 37. 55. 64. 82.]]\n"
          ],
          "name": "stdout"
        }
      ]
    },
    {
      "cell_type": "markdown",
      "metadata": {
        "id": "wz0mjBIS06ue",
        "colab_type": "text"
      },
      "source": [
        "**(2)** Then we compute the matrix ${\\bf K} + \\lambda I$ and we call it ${\\bf Z}$: "
      ]
    },
    {
      "cell_type": "code",
      "metadata": {
        "id": "vuYDa8KU06uf",
        "colab_type": "code",
        "colab": {
          "base_uri": "https://localhost:8080/",
          "height": 119
        },
        "outputId": "a48951ac-396b-4e95-bc34-dbeb724193c2"
      },
      "source": [
        "# Matrix Z:\n",
        "Z = K + l*np.eye(n)\n",
        "print(Z)"
      ],
      "execution_count": null,
      "outputs": [
        {
          "output_type": "stream",
          "text": [
            "[[ 3.  4.  5.  7.  8. 10.]\n",
            " [ 4. 11. 13. 19. 22. 28.]\n",
            " [ 5. 13. 18. 25. 29. 37.]\n",
            " [ 7. 19. 25. 38. 43. 55.]\n",
            " [ 8. 22. 29. 43. 51. 64.]\n",
            " [10. 28. 37. 55. 64. 83.]]\n"
          ],
          "name": "stdout"
        }
      ]
    },
    {
      "cell_type": "markdown",
      "metadata": {
        "id": "dgVDssHz06uj",
        "colab_type": "text"
      },
      "source": [
        "**(3)** We solve the problem ${\\bf Z} {\\bf a} = {\\bf y}$"
      ]
    },
    {
      "cell_type": "code",
      "metadata": {
        "id": "hG1oHwRS06uk",
        "colab_type": "code",
        "colab": {
          "base_uri": "https://localhost:8080/",
          "height": 119
        },
        "outputId": "764f82de-f906-4d8b-9c78-ef8ccd052fdc"
      },
      "source": [
        "# Solve the system Za = y:\n",
        "a = np.linalg.solve(Z,y)\n",
        "print(a)"
      ],
      "execution_count": null,
      "outputs": [
        {
          "output_type": "stream",
          "text": [
            "[[-0.34611973]\n",
            " [ 0.37760532]\n",
            " [ 0.13946785]\n",
            " [ 0.3631929 ]\n",
            " [-0.17494457]\n",
            " [-0.15121951]]\n"
          ],
          "name": "stdout"
        }
      ]
    },
    {
      "cell_type": "markdown",
      "metadata": {
        "id": "3HM5IzRc06uo",
        "colab_type": "text"
      },
      "source": [
        "**(4)** And finally we obtain the vector of target estimations as $\\hat{{\\bf y}}_{dual} = \\boldsymbol{\\Phi} \\boldsymbol{\\Phi}^{T} {\\bf a}$, and plot the results. We must obtain the same solution as before."
      ]
    },
    {
      "cell_type": "code",
      "metadata": {
        "id": "zCrfecLv06up",
        "colab_type": "code",
        "colab": {
          "base_uri": "https://localhost:8080/",
          "height": 282
        },
        "outputId": "cb064138-82be-4532-aac8-4bbca9b8f77e"
      },
      "source": [
        "# Estimation of y:\n",
        "ydual = np.dot(phi, np.dot(phi.transpose(), a))\n",
        "\n",
        "# Plot:\n",
        "plt.figure()\n",
        "plt.plot(x,y,'ro',x,ydual,'b-') \n",
        "plt.grid(True)\n",
        "plt.xlabel(\"X\")\n",
        "plt.ylabel(\"Y\")\n",
        "plt.show()"
      ],
      "execution_count": null,
      "outputs": [
        {
          "output_type": "display_data",
          "data": {
            "image/png": "[encoded data removed]",
            "text/plain": [
              "<Figure size 432x288 with 1 Axes>"
            ]
          },
          "metadata": {
            "tags": [],
            "needs_background": "light"
          }
        }
      ]
    },
    {
      "cell_type": "markdown",
      "metadata": {
        "id": "AH9wqCvN06ut",
        "colab_type": "text"
      },
      "source": [
        "We can check that the estimations in the primal and dual formulations are exactly the same:"
      ]
    },
    {
      "cell_type": "code",
      "metadata": {
        "id": "SSL1eDoc06uw",
        "colab_type": "code",
        "colab": {
          "base_uri": "https://localhost:8080/",
          "height": 272
        },
        "outputId": "f075b03f-0cbe-463c-f4d7-85c6b4ae9013"
      },
      "source": [
        "print(\"yprim = \")\n",
        "print(yprimal)\n",
        "print()\n",
        "print(\"ydual = \")\n",
        "print(ydual)"
      ],
      "execution_count": null,
      "outputs": [
        {
          "output_type": "stream",
          "text": [
            "yprim = \n",
            "[[1.14611973]\n",
            " [3.02239468]\n",
            " [3.96053215]\n",
            " [5.8368071 ]\n",
            " [6.77494457]\n",
            " [8.65121951]]\n",
            "\n",
            "ydual = \n",
            "[[1.14611973]\n",
            " [3.02239468]\n",
            " [3.96053215]\n",
            " [5.8368071 ]\n",
            " [6.77494457]\n",
            " [8.65121951]]\n"
          ],
          "name": "stdout"
        }
      ]
    },
    {
      "cell_type": "markdown",
      "metadata": {
        "id": "PMZ3bV-506u0",
        "colab_type": "text"
      },
      "source": [
        "### So all you need is... a kernel\n",
        "\n",
        "**The polynomial kernel:**\n",
        "\n",
        "$$\n",
        "k({\\bf x}, {\\bf z}) = ({\\bf x}^{T} {\\bf z} + C)^{P}\n",
        "$$\n",
        "\n",
        "- For example, with ${\\bf x} = (x_{1}, x_{2})$, $C = 1$ and $P = 2$ we have:\n",
        "\n",
        "$$\n",
        "k({\\bf x}, {\\bf z}) = ({\\bf x}^{T} {\\bf z} + 1)^{2} = (x_{1} z_{1} + x_{2} z_{2} + 1)^{2} \n",
        "$$\n",
        "\n",
        "- Which can be expressed as:\n",
        "\n",
        "$$\n",
        "k({\\bf x}, {\\bf z}) = \n",
        "(x_{1}^{2}, x_{2}^{2}, \\sqrt{2} x_{1} x_{2}, \\sqrt{2} x_{1} , \\sqrt{2} x_{2}, 1)\n",
        "\\left(\n",
        "\\begin{array}{cc}\n",
        "z_{1}^{2}\\\\\n",
        "z_{2}^{2}\\\\\n",
        "\\sqrt{2} z_{1} z_{2}\\\\\n",
        "\\sqrt{2} z_{1}\\\\\n",
        "\\sqrt{2} z_{2}\\\\\n",
        "1\\\\\n",
        "\\end{array} \n",
        "\\right)\n",
        "$$\n",
        "\n",
        "- The corresponding transformation is:\n",
        "\n",
        "$$\n",
        "\\boldsymbol{\\phi} ({\\bf x}) = \n",
        "\\left(\n",
        "\\begin{array}{cc}\n",
        "x_{1}^{2}\\\\\n",
        "x_{2}^{2}\\\\\n",
        "\\sqrt{2} x_{1} x_{2}\\\\\n",
        "\\sqrt{2} x_{1}\\\\\n",
        "\\sqrt{2} x_{2}\\\\\n",
        "1\\\\\n",
        "\\end{array} \n",
        "\\right)\n",
        "$$\n",
        "\n",
        "**The RBF kernel:**\n",
        "\n",
        "$$\n",
        "k({\\bf x}, {\\bf z}) = \\exp{\\left(-\\frac{||{\\bf x} - {\\bf z}||^{2}}{2 \\sigma^{2}}\\right)}\n",
        "$$\n",
        "\n",
        "- The corresponding attribute space is infinite-dimensional\n",
        "\n",
        "- For example, with ${\\bf x} = x$, and $\\sigma = 1$ we have:\n",
        "\n",
        "$$\n",
        "k(x, z) = \\exp{\\left(-\\frac{(x - z)^{2}}{2}\\right)} = \\exp{(-x^{2}/2)} \\exp{(-z^{2}/2)} \\exp{(xz)}\n",
        "$$\n",
        "\n",
        "- Which can be expressed as:\n",
        "\n",
        "$$\n",
        "k(x, z) = \\exp{(-x^{2}/2)} \\exp{(-z^{2}/2)} \\sum_{n=0}^{\\infty}\\frac{x^{n}z^{n}}{n!}\n",
        "$$\n",
        "\n",
        "- The attribute vector is:\n",
        "\n",
        "$$\n",
        "\\boldsymbol{\\phi} (x) = \\exp{(-x^{2}/2)}\n",
        "\\left(\n",
        "\\begin{array}{cc}\n",
        "1\\\\\n",
        "x\\\\\n",
        "x^{2}/\\sqrt{2}\\\\\n",
        "x^{3}/\\sqrt{6}\\\\\n",
        "\\vdots\\\\\n",
        "\\end{array} \n",
        "\\right)\n",
        "$$"
      ]
    },
    {
      "cell_type": "markdown",
      "metadata": {
        "id": "jc6SVlBi06u1",
        "colab_type": "text"
      },
      "source": [
        "### Conclusion\n",
        "\n",
        "**In the primal formulation:**\n",
        "\n",
        "$$\n",
        "\\hat{y} ({\\bf x}) = {\\bf w}^{T}  \\boldsymbol{\\phi} ({\\bf x}) = \\sum_{j=1}^{M} w_{j} \\phi_{j}({\\bf x})\n",
        "$$\n",
        "\n",
        "To obtain ${\\bf w}$ we have to invert the matrix ${\\bf A} + \\lambda I$, which is $M \\times M$\n",
        "\n",
        "**In the dual formulation:**\n",
        "\n",
        "$$\n",
        "\\hat{y} ({\\bf x}) = {\\bf a}^{T} \\boldsymbol{\\Phi} \\boldsymbol{\\phi} ({\\bf x}) = \\sum_{i=1}^{N} a_{i} k({\\bf x}_{i},{\\bf x})\n",
        "$$\n",
        "\n",
        "To obtain ${\\bf a}$ we have to invert the matrix ${\\bf K} + \\lambda I$, which is $N \\times N$\n",
        "\n",
        "This technique is generalizable to other problems\n"
      ]
    },
    {
      "cell_type": "markdown",
      "metadata": {
        "id": "yA3b0gZB06u2",
        "colab_type": "text"
      },
      "source": [
        "<a id='appendix'></a>\n",
        "\n",
        "# <font color=\"#04B404\">Appendix</font>\n",
        "## <font color=\"#6E6E6E\">Derivation of the regularized linear regression equations</font>"
      ]
    },
    {
      "cell_type": "markdown",
      "metadata": {
        "id": "ulDqtdKJ06u2",
        "colab_type": "text"
      },
      "source": [
        "### Minimization of $J({\\bf w})$\n",
        "\n",
        "- We want to minimize:\n",
        "\n",
        "$$\n",
        "\\begin{eqnarray}\n",
        "J({\\bf w}) &=& \\frac{1}{2} \\sum_{i=1}^{N}\\{y_{i} - {\\bf w}^{T}  \\boldsymbol{\\phi} ({\\bf x}_{i})\\}^{2} + \\frac{\\lambda}{2} ||{\\bf w}||^{2} \\nonumber \\\\\n",
        "&=& \\frac{1}{2} \\sum_{i=1}^{N}\\{y_{i} - \\sum_{j=1}^{M} w_{j} \\phi_{j}({\\bf x}_{i})\\}^{2} + \\frac{\\lambda}{2} \\sum_{j=1}^{M} w_{j}^{2} \\nonumber\n",
        "\\end{eqnarray}$$\n",
        "\n",
        "\n",
        "- With respect to the parameters $w_{k}$:\n",
        "\n",
        "$$\n",
        "\\frac{\\partial J({\\bf w})}{\\partial w_{k}} = 0\n",
        "$$\n",
        "\n",
        "- Operating:\n",
        "\n",
        "$$\n",
        "\\begin{eqnarray}\n",
        "\\frac{\\partial J({\\bf w})}{\\partial w_{k}} &=& - \\sum_{i=1}^{N} y_{i}\\phi_{k}({\\bf x}_{i})  + \\sum_{i=1}^{N} \\sum_{j=1}^{M} w_{j} \\phi_{j}({\\bf x}_{i}) \\phi_{k}({\\bf x}_{i}) + \\lambda w_{k} \\nonumber \\\\\n",
        "&=& - \\sum_{i=1}^{N} y_{i}\\Phi_{ik}  + \\sum_{i=1}^{N} \\sum_{j=1}^{M} w_{j} \\Phi_{ij} \\Phi_{ik} + \\lambda w_{k} \\nonumber\\\\\n",
        "&=& - \\sum_{i=1}^{N} \\Phi_{ki}^{T} y_{i} + \\sum_{j=1}^{M} \\sum_{i=1}^{N} \\Phi_{ki}^{T} \\Phi_{ij} w_{j} + \\lambda w_{k} \\nonumber \\\\\n",
        "&=& - (\\boldsymbol{\\Phi}^{T} {\\bf y})_{k} + \\sum_{j=1}^{M} (\\boldsymbol{\\Phi}^{T} \\boldsymbol{\\Phi})_{kj} w_{j} + \\lambda w_{k} \\nonumber \\\\\n",
        "&=& - (\\boldsymbol{\\Phi}^{T} {\\bf y})_{k} + (\\boldsymbol{\\Phi}^{T} \\boldsymbol{\\Phi} {\\bf w})_{k} + \\lambda w_{k} \\nonumber \\\\\n",
        "&=& 0 \\nonumber\n",
        "\\end{eqnarray}\n",
        "$$\n",
        "\n",
        "- Finally:\n",
        "\n",
        "$$\n",
        "-\\boldsymbol{\\Phi}^{T} {\\bf y} + \\boldsymbol{\\Phi}^{T} \\boldsymbol{\\Phi} {\\bf w} + \\lambda {\\bf w} = {\\bf 0}\n",
        "$$\n",
        "\n",
        "- Or equivalently:\n",
        "\n",
        "$$\n",
        "({\\bf A} + \\lambda I) {\\bf w} = \\boldsymbol{\\Phi}^{T} {\\bf y}\n",
        "$$\n",
        "\n",
        "- Remember that $\\boldsymbol{\\Phi}$ is the *design matrix*, $\\Phi_{ij} = \\phi_{j}({\\bf x}_{i})$ and ${\\bf A} = \\boldsymbol{\\Phi}^{T} \\boldsymbol{\\Phi}$ is a $M \\times M$ matrix\n",
        "\n",
        "- We can obtain ${\\bf w}$ as:\n",
        "\n",
        "$$\n",
        "{\\bf w} = ({\\bf A} + \\lambda I)^{-1} \\boldsymbol{\\Phi}^{T} {\\bf y}\n",
        "$$"
      ]
    },
    {
      "cell_type": "markdown",
      "metadata": {
        "id": "I6E197jM06u3",
        "colab_type": "text"
      },
      "source": [
        "### Reformulation of regularized linear regression\n",
        "\n",
        "- Let's proceed in a different way:\n",
        "\n",
        "$$\n",
        "\\frac{\\partial J({\\bf w})}{\\partial w_{k}} = - \\sum_{i=1}^{N} \\Phi_{ki}^{T} y_{i} + \\sum_{j=1}^{M} \\sum_{i=1}^{N} \\Phi_{ki}^{T} \\Phi_{ij} w_{j} + \\lambda w_{k} = 0\n",
        "$$\n",
        "\n",
        "- We can obtain $w_{k}$ as:\n",
        "\n",
        "$$\n",
        "\\begin{eqnarray}\n",
        "w_{k} &=& -\\frac{1}{\\lambda} \\sum_{i=1}^{N} \\{ \\sum_{j=1}^{M} \\Phi_{ki}^{T} \\Phi_{ij} w_{j} - \\Phi_{ki}^{T} y_{i}\\} \\nonumber \\\\\n",
        "&=& -\\frac{1}{\\lambda} \\sum_{i=1}^{N} \\Phi_{ki}^{T} \\{ \\sum_{j=1}^{M} \\Phi_{ij} w_{j} - y_{i}\\} \\nonumber \\\\\n",
        "&=& -\\frac{1}{\\lambda} \\sum_{i=1}^{N} \\Phi_{ki}^{T} \\{ \\sum_{j=1}^{M} w_{j} \\phi_{j}({\\bf x}_{i}) - y_{i}\\} \\nonumber \\\\\n",
        "&=& -\\frac{1}{\\lambda} \\sum_{i=1}^{N} \\Phi_{ki}^{T} \\{ {\\bf w}^{T} \\boldsymbol{\\phi}({\\bf x}_{i}) - y_{i}\\} \\nonumber \\\\\n",
        "&=& \\sum_{i=1}^{N} \\Phi_{ki}^{T} a_{i} \\nonumber \n",
        "\\end{eqnarray}\n",
        "$$\n",
        "\n",
        "- Where we have defined $a_{i}$ as:\n",
        "\n",
        "$$\n",
        "a_{i} = -\\frac{1}{\\lambda}\\{ {\\bf w}^{T} \\boldsymbol{\\phi}({\\bf x}_{i}) - y_{i}\\}\n",
        "$$\n",
        "\n",
        "- Now we can substitute $w_{k}$ into $J({\\bf w})$ to obtain an expression that depends only on ${\\bf a}:$\n",
        "\n",
        "$$\n",
        "J({\\bf a}) = \\frac{1}{2} \\sum_{i=1}^{N}\\{y_{i} - \\sum_{j=1}^{M} \\sum_{k=1}^{N} \\Phi_{jk}^{T} a_{k} \\Phi_{ij}\\}^{2} + \\frac{\\lambda}{2} \\sum_{j=1}^{M} (\\sum_{k=1}^{N} \\Phi_{jk}^{T} a_{k} )^{2}\n",
        "$$\n",
        "\n",
        "- The *dual problem* consists of minimizing $J({\\bf a})$ with respect to $a_{k}$:\n",
        "\n",
        "$$\n",
        "\\frac{\\partial J({\\bf a})}{\\partial a_{k}} = 0\n",
        "$$\n",
        "\n",
        "- After some algebra we obtain:\n",
        "\n",
        "$$\n",
        "{\\bf a} = ({\\bf K} + \\lambda I)^{-1} {\\bf y}\n",
        "$$\n",
        "\n",
        "- Where ${\\bf K} = \\boldsymbol{\\Phi} \\boldsymbol{\\Phi}^{T}$ is a $N \\times N$ matrix that satisfies that:\n",
        "\n",
        "$$\n",
        "{\\bf K}_{ij} = \\boldsymbol{\\phi}({\\bf x}_{i})^{T} \\boldsymbol{\\phi}({\\bf x}_{j}) \\equiv k({\\bf x}_{i},{\\bf x}_{j})\n",
        "$$\n",
        "\n",
        "- The function $k({\\bf x}_{i},{\\bf x}_{j})$ is known as a *kernel* function\n"
      ]
    }
  ]
}