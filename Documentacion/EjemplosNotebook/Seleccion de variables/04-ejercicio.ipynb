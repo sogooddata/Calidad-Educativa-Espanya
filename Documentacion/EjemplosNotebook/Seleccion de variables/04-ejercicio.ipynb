{
 "cells": [
  {
   "cell_type": "markdown",
   "metadata": {},
   "source": [
    "<font color=\"#CA3532\"><h1 align=\"left\">Máster en Big Data y Data Science - Fundamentos de Análisis de Datos</h1></font>\n",
    "<font color=\"#6E6E6E\"><h2 align=\"left\">Aplicación de métodos de ranking y métodos wrapper al dataset de censo</h2></font>"
   ]
  },
  {
   "cell_type": "code",
   "execution_count": null,
   "metadata": {},
   "outputs": [],
   "source": [
    "import numpy as np\n",
    "import pandas as pd\n",
    "import seaborn as sns\n",
    "\n",
    "import matplotlib.pyplot as plt\n",
    "\n",
    "BOLD = '\\033[1m'\n",
    "NO_BOLD = '\\033[0m'\n",
    "\n",
    "%matplotlib inline"
   ]
  },
  {
   "cell_type": "code",
   "execution_count": null,
   "metadata": {},
   "outputs": [],
   "source": [
    "# here the import csv file as a pandas dataframe\n",
    "df = pd.read_csv(\"./adult_dataset.csv\")"
   ]
  },
  {
   "cell_type": "code",
   "execution_count": null,
   "metadata": {},
   "outputs": [],
   "source": [
    "df.shape"
   ]
  },
  {
   "cell_type": "code",
   "execution_count": null,
   "metadata": {},
   "outputs": [],
   "source": [
    "# nos quedamos solo con un subconjunto de 3000 casos para reducir la carga computacional\n",
    "\n",
    "np.random.seed(1)\n",
    "df = df.loc[np.random.permutation(len(df))[:3000]]\n",
    "df.reset_index(inplace=True, drop=True)\n",
    "df.head()"
   ]
  },
  {
   "cell_type": "code",
   "execution_count": null,
   "metadata": {},
   "outputs": [],
   "source": [
    "df.isnull().sum()"
   ]
  },
  {
   "cell_type": "code",
   "execution_count": null,
   "metadata": {},
   "outputs": [],
   "source": [
    "df.dtypes"
   ]
  },
  {
   "cell_type": "code",
   "execution_count": null,
   "metadata": {},
   "outputs": [],
   "source": [
    "# variables numéricas:\n",
    "df.describe()"
   ]
  },
  {
   "cell_type": "code",
   "execution_count": null,
   "metadata": {},
   "outputs": [],
   "source": [
    "# variables categóricas:\n",
    "df.describe(include=object)"
   ]
  },
  {
   "cell_type": "code",
   "execution_count": null,
   "metadata": {},
   "outputs": [],
   "source": [
    "df.hist(color='firebrick', bins=20, layout=(11,3), figsize=(15,30));"
   ]
  },
  {
   "cell_type": "code",
   "execution_count": null,
   "metadata": {
    "scrolled": false
   },
   "outputs": [],
   "source": [
    "clases = np.unique(df[\"yearly-income\"])\n",
    "cols = list(df.columns)\n",
    "cols.remove(\"yearly-income\")\n",
    "\n",
    "plt.figure(figsize=(10,50))\n",
    "\n",
    "for i,col in enumerate(cols):\n",
    "    plt.subplot(11,2,i+1)\n",
    "    if len(np.unique(df[col]))<=2 or df.dtypes[col] == object:\n",
    "        sns.countplot(x=col, hue=\"yearly-income\", data=df)\n",
    "        plt.xticks(rotation=90)\n",
    "#        plt.subplots_adjust(wspace=1.5)\n",
    "    else:\n",
    "        for c in clases:\n",
    "            pass\n",
    "            sns.distplot(df[df[\"yearly-income\"]==c][col], hist=False, kde=True,\n",
    "                         kde_kws = {'shade': True, 'linewidth': 1}, \n",
    "                         label = c)\n",
    "plt.tight_layout()"
   ]
  },
  {
   "cell_type": "markdown",
   "metadata": {},
   "source": [
    "## Recodificación de variables categóricas"
   ]
  },
  {
   "cell_type": "markdown",
   "metadata": {},
   "source": [
    "Primera opción: una variable categórica con M categorías -> una variable entera con valores de 0 a M - 1\n",
    "    \n",
    "Esta codificación no es correcta si M>2 ya que implícitamente introduce un ordenamiento y unas distancias diferentes entre los valores.\n",
    "\n",
    "**Segunda opción: sustituir variables categóricas por dummies**"
   ]
  },
  {
   "cell_type": "code",
   "execution_count": null,
   "metadata": {},
   "outputs": [],
   "source": []
  },
  {
   "cell_type": "code",
   "execution_count": null,
   "metadata": {},
   "outputs": [],
   "source": []
  },
  {
   "cell_type": "markdown",
   "metadata": {},
   "source": [
    "### Ejercicio: analizar variables con métodos de filtrado"
   ]
  },
  {
   "cell_type": "code",
   "execution_count": null,
   "metadata": {},
   "outputs": [],
   "source": []
  },
  {
   "cell_type": "code",
   "execution_count": null,
   "metadata": {},
   "outputs": [],
   "source": []
  },
  {
   "cell_type": "code",
   "execution_count": null,
   "metadata": {},
   "outputs": [],
   "source": []
  },
  {
   "cell_type": "markdown",
   "metadata": {},
   "source": [
    "### Ejercicio: analizar variables con métodos de wrapping"
   ]
  },
  {
   "cell_type": "code",
   "execution_count": null,
   "metadata": {},
   "outputs": [],
   "source": []
  },
  {
   "cell_type": "code",
   "execution_count": null,
   "metadata": {},
   "outputs": [],
   "source": []
  }
 ],
 "metadata": {
  "anaconda-cloud": {},
  "kernelspec": {
   "display_name": "Python 3",
   "language": "python",
   "name": "python3"
  },
  "language_info": {
   "codemirror_mode": {
    "name": "ipython",
    "version": 3
   },
   "file_extension": ".py",
   "mimetype": "text/x-python",
   "name": "python",
   "nbconvert_exporter": "python",
   "pygments_lexer": "ipython3",
   "version": "3.6.8"
  }
 },
 "nbformat": 4,
 "nbformat_minor": 1
}
