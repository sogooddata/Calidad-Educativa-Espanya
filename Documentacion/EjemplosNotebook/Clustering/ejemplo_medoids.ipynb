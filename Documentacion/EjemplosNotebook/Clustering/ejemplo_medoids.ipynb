{
 "cells": [
  {
   "cell_type": "markdown",
   "metadata": {},
   "source": [
    "https://www.researchgate.net/publication/272351873_NumPy_SciPy_Recipes_for_Data_Science_k-Medoids_Clustering\n"
   ]
  },
  {
   "cell_type": "code",
   "execution_count": 16,
   "metadata": {},
   "outputs": [],
   "source": [
    "import numpy as np\n",
    "import numpy.random as rnd\n",
    "import matplotlib.pyplot as plt\n",
    "import scipy.spatial as spt\n",
    "import random\n",
    "import math"
   ]
  },
  {
   "cell_type": "code",
   "execution_count": 17,
   "metadata": {},
   "outputs": [],
   "source": [
    "def kMedoids(D, k, tmax=100):\n",
    "    # determine dimensions of distance matrix D\n",
    "    m, n = D.shape\n",
    "    # randomly initialize an array of k medoid indices\n",
    "    M = np.sort(np.random.choice(n, k))\n",
    "    # create a copy of the array of medoid indices\n",
    "    Mnew = np.copy(M)\n",
    "    # initialize a dictionary to represent clusters\n",
    "    C = {}\n",
    "    for t in range(tmax):\n",
    "        # determine clusters, i.e. arrays of data indices\n",
    "        J = np.argmin(D[:,M], axis=1)\n",
    "       \n",
    "        for kappa in range(k):\n",
    "            C[kappa] = np.where(J==kappa)[0]\n",
    "        \n",
    "        # update cluster medoids\n",
    "        for kappa in range(k):\n",
    "            J = np.mean(D[np.ix_(C[kappa],C[kappa])],axis=1)\n",
    "            j = np.argmin(J)\n",
    "            Mnew[kappa] = C[kappa][j]\n",
    "        np.sort(Mnew)\n",
    "\n",
    "        # check for convergence\n",
    "        if np.array_equal(M, Mnew):\n",
    "            break\n",
    "        M = np.copy(Mnew)\n",
    "    else:#this is only perfomed in case the for has been fully executed. If there is a break, it is not executed.\n",
    "        # final update of cluster memberships\n",
    "        J = np.argmin(D[:,M], axis=1)\n",
    "        for kappa in range(k):\n",
    "            C[kappa] = np.where(J==kappa)[0]\n",
    "    # return results\n",
    "    return M, C"
   ]
  },
  {
   "cell_type": "markdown",
   "metadata": {},
   "source": [
    "Ejemplo de extracción de medoide"
   ]
  },
  {
   "cell_type": "code",
   "execution_count": 18,
   "metadata": {},
   "outputs": [],
   "source": [
    "mean = np.array([0., 0.])\n",
    "Cov = np.array([[1., 0.], [0., 1.]])\n",
    "X = rnd.multivariate_normal(mean, Cov, 100).T"
   ]
  },
  {
   "cell_type": "code",
   "execution_count": 19,
   "metadata": {},
   "outputs": [],
   "source": [
    "mu = np.mean(X, axis=1)"
   ]
  },
  {
   "cell_type": "code",
   "execution_count": 20,
   "metadata": {},
   "outputs": [],
   "source": [
    "def squaredEDM(X):\n",
    "    V = spt.distance.pdist(X.T, 'sqeuclidean')\n",
    "    return spt.distance.squareform(V)"
   ]
  },
  {
   "cell_type": "code",
   "execution_count": 21,
   "metadata": {},
   "outputs": [],
   "source": [
    "D = squaredEDM(X)"
   ]
  },
  {
   "cell_type": "code",
   "execution_count": 22,
   "metadata": {},
   "outputs": [],
   "source": [
    "#argmin de numpy devuelve el índice del mínimo valor a lo largo del eje indicado como argumento de entrada\n",
    "j = np.argmin(np.mean(D, axis=1))\n",
    "me = X[:,j]\n",
    "#me es un  medoide: es aquel punto que minimiza la distancia cuadrática a todos los puntos del cluster"
   ]
  },
  {
   "cell_type": "code",
   "execution_count": 23,
   "metadata": {},
   "outputs": [
    {
     "data": {
      "image/png": "[encoded data removed]",
      "text/plain": [
       "<Figure size 432x288 with 1 Axes>"
      ]
     },
     "metadata": {
      "needs_background": "light"
     },
     "output_type": "display_data"
    }
   ],
   "source": [
    "plt.scatter(mu[0], mu[1], marker='s', s=60)\n",
    "plt.scatter(me[0], me[1], marker='o', s=60)\n",
    "plt.scatter(X[0,:], X[1,:], s=30)\n",
    "plt.show()"
   ]
  },
  {
   "cell_type": "code",
   "execution_count": 24,
   "metadata": {},
   "outputs": [],
   "source": [
    "x = []\n",
    "y = []\n",
    "x1 = []\n",
    "y1 = []\n",
    "for i in range(1,551):\n",
    "    aux = random.gauss(0,1)\n",
    "    x.append(aux)\n",
    "    aux = random.gauss(0,1)\n",
    "    y.append(aux)\n",
    "    #para la segunda población hacemos que las muestras se distribuyan\n",
    "    #en el entorno de la circunferencia de radio 5 (de acuerdo con una distribucion gausiana)\n",
    "    r = random.gauss(5,0.25)\n",
    "    #Los puntos aleatorios son generados de acuerdo con una representación polar \n",
    "    #p=(r*cos(angulo),r*sin(angulo)). r se escoge a partir de una distribución gausiana de media \n",
    "    #5 y varianza 0.25. El ángulo, por su parte, se genera aleatoriamente según un distribución\n",
    "    #uniforme en [0,2pi]\n",
    "    theta = random.uniform(0,2*math.pi)\n",
    "    x1.append(r*math.cos(theta))\n",
    "    y1.append(r*math.sin(theta))\n",
    "\n",
    "x = np.array(x)\n",
    "y = np.array(y)\n",
    "data = np.vstack((x,y)).T\n",
    "x1 = np.array(x1)\n",
    "y1 = np.array(y1)\n",
    "data1 = np.vstack((x1,y1)).T\n",
    "data1 = np.concatenate((data,data1))\n",
    "#np.random.shuffle(data1)"
   ]
  },
  {
   "cell_type": "code",
   "execution_count": 25,
   "metadata": {},
   "outputs": [
    {
     "data": {
      "text/plain": [
       "(1100, 2)"
      ]
     },
     "execution_count": 25,
     "metadata": {},
     "output_type": "execute_result"
    }
   ],
   "source": [
    "data1.shape"
   ]
  },
  {
   "cell_type": "markdown",
   "metadata": {},
   "source": [
    "Calculamos la matriz de distancias"
   ]
  },
  {
   "cell_type": "code",
   "execution_count": 26,
   "metadata": {},
   "outputs": [
    {
     "name": "stdout",
     "output_type": "stream",
     "text": [
      "(1100, 1100)\n"
     ]
    }
   ],
   "source": [
    "D = squaredEDM(data1.T)\n",
    "print(D.shape)\n",
    "M, C = kMedoids(D, k=2)"
   ]
  },
  {
   "cell_type": "code",
   "execution_count": 27,
   "metadata": {},
   "outputs": [
    {
     "data": {
      "text/plain": [
       "dict"
      ]
     },
     "execution_count": 27,
     "metadata": {},
     "output_type": "execute_result"
    }
   ],
   "source": [
    "type(C)"
   ]
  },
  {
   "cell_type": "code",
   "execution_count": 28,
   "metadata": {},
   "outputs": [
    {
     "name": "stdout",
     "output_type": "stream",
     "text": [
      "[[ 0.78124677 -0.46275469]\n",
      " [-4.18880898  1.83986686]]\n"
     ]
    }
   ],
   "source": [
    "print(data1 [M,:])"
   ]
  },
  {
   "cell_type": "code",
   "execution_count": 29,
   "metadata": {},
   "outputs": [
    {
     "data": {
      "text/plain": [
       "(852,)"
      ]
     },
     "execution_count": 29,
     "metadata": {},
     "output_type": "execute_result"
    }
   ],
   "source": [
    "C[0].shape"
   ]
  },
  {
   "cell_type": "code",
   "execution_count": 30,
   "metadata": {},
   "outputs": [
    {
     "data": {
      "image/png": "[encoded data removed]",
      "text/plain": [
       "<Figure size 432x288 with 1 Axes>"
      ]
     },
     "metadata": {
      "needs_background": "light"
     },
     "output_type": "display_data"
    }
   ],
   "source": [
    "plt.scatter(data1[C[0],0],data1[C[0],1],color='b',alpha=0.5)\n",
    "plt.scatter(data1[C[1],0],data1[C[1],1],color='r',alpha=0.5)\n",
    "plt.scatter(data1[M,0],data1[M,1],marker='x',s=169,linewidths=3,color='g',zorder=10)\n",
    "plt.show()"
   ]
  },
  {
   "cell_type": "code",
   "execution_count": null,
   "metadata": {},
   "outputs": [],
   "source": []
  }
 ],
 "metadata": {
  "kernelspec": {
   "display_name": "Python 3",
   "language": "python",
   "name": "python3"
  },
  "language_info": {
   "codemirror_mode": {
    "name": "ipython",
    "version": 3
   },
   "file_extension": ".py",
   "mimetype": "text/x-python",
   "name": "python",
   "nbconvert_exporter": "python",
   "pygments_lexer": "ipython3",
   "version": "3.7.6"
  }
 },
 "nbformat": 4,
 "nbformat_minor": 1
}
