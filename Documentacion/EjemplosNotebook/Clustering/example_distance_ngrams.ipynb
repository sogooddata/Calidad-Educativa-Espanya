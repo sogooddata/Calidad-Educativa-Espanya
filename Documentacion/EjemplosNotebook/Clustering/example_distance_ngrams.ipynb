{
 "cells": [
  {
   "cell_type": "code",
   "execution_count": null,
   "metadata": {},
   "outputs": [
    {
     "name": "stdout",
     "output_type": "stream",
     "text": [
      "Collecting package metadata (current_repodata.json): done\n",
      "Solving environment: failed with initial frozen solve. Retrying with flexible solve.\n",
      "Solving environment: failed with repodata from current_repodata.json, will retry with next repodata source.\n",
      "Collecting package metadata (repodata.json): done\n",
      "Solving environment: / "
     ]
    }
   ],
   "source": [
    "!conda install -c conda-forge pyxdameraulevenshtein \n",
    "\n",
    "import numpy as np\n",
    "import scipy.cluster.hierarchy\n",
    "from pyxdameraulevenshtein import damerau_levenshtein_distance\n",
    "from collections import defaultdict\n",
    "\n",
    "def cluster_ngrams(ngrams, compute_distance, max_dist, method):\n",
    "    \"\"\"\n",
    "    Cluster de ngrams.\n",
    "    Params:\n",
    "        ngrams: [list] List of tuple of words in each ngram to cluster.\n",
    "        compute_distance: [func] Function that computes distance between two\n",
    "            pairs of ngrams.\n",
    "        max_dist: [float] Maximum distance allowed for two clusters to merge.\n",
    "        method: [string] Method to use for clustering.  'single',\n",
    "            'complete', 'average', 'centroid', 'median', 'ward', or 'weighted'.\n",
    "            See http://docs.scipy.org/doc/scipy/reference/generated/scipy.cluster.hierarchy.linkage.html for details.\n",
    "    Returns:\n",
    "        clusters: [list] List of ngrams in each cluster.\n",
    "    \"\"\"\n",
    "    indices = np.triu_indices(len(ngrams), 1)\n",
    "    pairwise_dists = np.apply_along_axis(\n",
    "        lambda col: compute_distance(ngrams[col[0]], ngrams[col[1]]),\n",
    "        0, indices)\n",
    "    hierarchy = scipy.cluster.hierarchy.linkage(pairwise_dists, method=method)\n",
    "    clusters = dict((i, [i]) for i in range(len(ngrams)))\n",
    "    for (i, iteration) in enumerate(hierarchy):\n",
    "        cl1, cl2, dist, num_items = iteration\n",
    "        if dist >  max_dist:\n",
    "            break\n",
    "        items1 = clusters[cl1]\n",
    "        items2 = clusters[cl2]\n",
    "        del clusters[cl1]\n",
    "        del clusters[cl2]\n",
    "        clusters[len(ngrams) + i] = items1 + items2\n",
    "    ngram_clusters = []\n",
    "    for cluster in clusters.values():\n",
    "        ngram_clusters.append([ngrams[i] for i in cluster])\n",
    "    return ngram_clusters\n",
    "\n",
    "\n",
    "def dl_ngram_dist(ngram1, ngram2):\n",
    "    \"\"\"\n",
    "    Compute distance between ngrams by summing the Damerau-Levenshtein distance\n",
    "    for consecutive words in ngrams.\n",
    "    Params:\n",
    "        ngram1: [tuple] Tuple of words.\n",
    "        ngram2: [tuple] Tuple of words.\n",
    "    Returns:\n",
    "        distance [int] Measure of distance between two ngrams.\n",
    "    \"\"\"\n",
    "    return sum(damerau_levenshtein_distance(w1, w2) for w1, w2 in zip(ngram1,\n",
    "ngram2))"
   ]
  },
  {
   "cell_type": "code",
   "execution_count": null,
   "metadata": {},
   "outputs": [],
   "source": [
    "ngrams = [\n",
    "            ['from', 'my', 'house'],\n",
    "            ['from', 'my', 'hose'],\n",
    "            ['he', 'was', 'eating'],\n",
    "            ['she', 'was', 'eating'],\n",
    "            ['fell', 'asleep', 'on'],\n",
    "            ['moved', 'to', 'a'],\n",
    "            ['rom', 'my', 'house'],\n",
    "            ['from', 'my', 'house'],\n",
    "        ]\n",
    "clusters = [[['fell', 'asleep', 'on']], [['moved', 'to', 'a']], [['he',\n",
    "            'was', 'eating'], ['she', 'was', 'eating']], [['rom', 'my',\n",
    "                'house'], ['from', 'my', 'hose'], ['from', 'my', 'house'],\n",
    "               ['from', 'my', 'house']]]\n",
    "cluster_ngrams(ngrams, dl_ngram_dist, 3, 'single')"
   ]
  }
 ],
 "metadata": {
  "kernelspec": {
   "display_name": "Python 3",
   "language": "python",
   "name": "python3"
  },
  "language_info": {
   "codemirror_mode": {
    "name": "ipython",
    "version": 3
   },
   "file_extension": ".py",
   "mimetype": "text/x-python",
   "name": "python",
   "nbconvert_exporter": "python",
   "pygments_lexer": "ipython3",
   "version": "3.7.3"
  }
 },
 "nbformat": 4,
 "nbformat_minor": 1
}
