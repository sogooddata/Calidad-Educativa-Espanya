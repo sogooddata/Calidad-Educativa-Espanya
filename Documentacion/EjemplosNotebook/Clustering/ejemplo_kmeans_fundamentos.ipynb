{
 "cells": [
  {
   "cell_type": "markdown",
   "metadata": {},
   "source": [
    "# Example extracted from Chapter 19 in:\n",
    "<img src=guttag.jpg>"
   ]
  },
  {
   "cell_type": "markdown",
   "metadata": {},
   "source": [
    "En este ejemplo vamos a aplicar k-means a un conjunto de objetos pertenecientes a una clase ejemplo. El procedimiento de clustering se lleva cabo en base a la clase Cluster, en concreto mediante el método que figura al final de este notebook. \n",
    "\n",
    "Como siempre, el primer estadio corresponde a la importación de los paquetes necesarios para realizar el ejemplo. "
   ]
  },
  {
   "cell_type": "code",
   "execution_count": 1,
   "metadata": {
    "collapsed": true
   },
   "outputs": [],
   "source": [
    "import random, string, copy\n",
    "%matplotlib inline\n",
    "import matplotlib.pyplot as plt\n",
    "import numpy as np"
   ]
  },
  {
   "cell_type": "markdown",
   "metadata": {},
   "source": [
    "**En este ejemplo vamos a utilizar la distancia de Minkowski, que está definida tal y como sigue:**\n",
    "\n",
    "\n",
    "$$\n",
    "    d(x_i,x_j) = (|x_{i,1} -x_{j,1}|)^p + |x_{i,2} -x_{j,2}|)^p +\\cdots + |x_{i,N} -x_{j,N}|^p)^{1/p}         \n",
    "$$    \n",
    "       \n"
   ]
  },
  {
   "cell_type": "code",
   "execution_count": 2,
   "metadata": {
    "collapsed": true
   },
   "outputs": [],
   "source": [
    "def minkowskiDist(v1, v2, p):\n",
    "    \"\"\"Asume que v1 y v2 son de igual longitud y que son vectores numéricos\n",
    "       Devuelve la distancia de Minkowski de orden p entre v1 y v2\"\"\"\n",
    "    dist = 0.0\n",
    "    for i in range(len(v1)):\n",
    "        dist += abs(v1[i] - v2[i])**p\n",
    "    return dist**(1.0/p)\n"
   ]
  },
  {
   "cell_type": "markdown",
   "metadata": {},
   "source": [
    "**Los ejemplos se realizarán empleando la clase auxiliar Example**:\n",
    "\n",
    "- En primer lugar, hemos de definir el constructor de la clase (def \\_init\\_).\n",
    "- Tras ello, escribimos cada uno de los métodos atributo de la clase.\n",
    "- Finalmente, tendremos un método para imprimir la clase Example.\n"
   ]
  },
  {
   "cell_type": "code",
   "execution_count": 3,
   "metadata": {
    "collapsed": true
   },
   "outputs": [],
   "source": [
    "class Example(object):\n",
    "    \n",
    "    def __init__(self, name, features, label = None):\n",
    "        #Asume que las caracterísiticas es un vector numérico\n",
    "        self.name = name\n",
    "        self.features = features\n",
    "        self.label = label\n",
    "        \n",
    "    def dimensionality(self):\n",
    "        return len(self.features)\n",
    "    \n",
    "    def getFeatures(self):\n",
    "        return self.features[:]\n",
    "    \n",
    "    def getLabel(self):\n",
    "        return self.label\n",
    "    \n",
    "    def getName(self):\n",
    "        return self.name\n",
    "    \n",
    "    def distance(self, other):\n",
    "        return minkowskiDist(self.features, other.getFeatures(), 2)\n",
    "    \n",
    "    def __str__(self):\n",
    "        return self.name +':'+ str(self.features) + ':' + str(self.label)\n"
   ]
  },
  {
   "cell_type": "markdown",
   "metadata": {},
   "source": [
    "**A continuación creamos la clase Cluster.**"
   ]
  },
  {
   "cell_type": "code",
   "execution_count": 4,
   "metadata": {
    "collapsed": true
   },
   "outputs": [],
   "source": [
    "class Cluster(object):\n",
    "    \n",
    "    def __init__(self, examples, exampleType):\n",
    "        \"\"\"Asumimos que examples es una lista de ejemplos de tipo exampleType\"\"\"\n",
    "        self.examples = examples\n",
    "        self.exampleType = exampleType\n",
    "        self.centroid = self.computeCentroid()\n",
    "        \n",
    "    def update(self, examples):\n",
    "        \"\"\"Sustituimos los ejemplos en el cluster por nuevos ejemplos\n",
    "        Se devuelve una medida sobre elcambio del centroide\"\"\"\n",
    "        oldCentroid = self.centroid\n",
    "        self.examples = examples\n",
    "        if len(examples) > 0:\n",
    "            self.centroid = self.computeCentroid()\n",
    "            return oldCentroid.distance(self.centroid)\n",
    "        else:\n",
    "            return 0.0\n",
    "        \n",
    "    def members(self):\n",
    "        for e in self.examples:\n",
    "            yield e\n",
    "        \n",
    "    def size(self):\n",
    "        return len(self.examples)\n",
    "    \n",
    "    def getCentroid(self):\n",
    "        return self.centroid\n",
    "    \n",
    "    def computeCentroid(self):\n",
    "        dim = self.examples[0].dimensionality()\n",
    "        totVals = np.array([0.0]*dim)\n",
    "        for e in self.examples:\n",
    "            totVals += e.getFeatures()\n",
    "        centroid = self.exampleType('centroid',\n",
    "                              totVals/float(len(self.examples)))\n",
    "        return centroid\n",
    "    \n",
    "    def variance(self):\n",
    "        totDist = 0.0\n",
    "        for e in self.examples:\n",
    "            totDist += (e.distance(self.centroid))**2\n",
    "        return totDist**0.5\n",
    "    \n",
    "    def __str__(self):\n",
    "        names = []\n",
    "        for e in self.examples:\n",
    "            names.append(e.getName())\n",
    "        names.sort()\n",
    "        result = 'Cluster con centroide '\\\n",
    "                 + str(self.centroid.getFeatures()) + ' contiene:\\n  '\n",
    "        for e in names:\n",
    "            result = result + e + ', '\n",
    "        return result[:-2]\n"
   ]
  },
  {
   "cell_type": "code",
   "execution_count": 5,
   "metadata": {},
   "outputs": [],
   "source": [
    "def kmeans(examples, exampleType, k, verbose):\n",
    "    \"\"\"Asume que examples es una lista de ejemplos de tipo exampleType. k es un entero positiv y verbose es \n",
    "    un booleano que indica si se quiere obtener información de depuración al ejecutar código.    \n",
    "       La función devuelve una lista que contiene k clusters. Si verbose es True se imprime el resultado de\n",
    "       cada iteración\"\"\"\n",
    "    #Elegimos k centroides de modo aleatorio\n",
    "    initialCentroids = random.sample(examples, k)\n",
    "    \n",
    "    #Creamos un singleton por cada centroide \n",
    "    clusters = []\n",
    "    for e in initialCentroids:\n",
    "        clusters.append(Cluster([e], exampleType))\n",
    "        \n",
    "    #Se itera hasta que no cambian los centroides\n",
    "    converged = False\n",
    "    numIterations = 0\n",
    "    while not converged:\n",
    "        numIterations += 1\n",
    "        #Crea una lista conteniendo k listas distintas vacías\n",
    "        newClusters = []\n",
    "        for i in range(k):\n",
    "            newClusters.append([])\n",
    "\n",
    "        #Asocia cada ejemplo con el centroid más cercano\n",
    "        for e in examples:\n",
    "            #Encuentra el centroide más cercano a e\n",
    "            smallestDistance = e.distance(clusters[0].getCentroid())\n",
    "            index = 0\n",
    "            for i in range(1, k):\n",
    "                distance = e.distance(clusters[i].getCentroid())\n",
    "                if distance < smallestDistance:\n",
    "                    smallestDistance = distance\n",
    "                    index = i\n",
    "            #Añade e a la lista de ejemplos asociada al centroide correspondiente\n",
    "            newClusters[index].append(e)\n",
    "            \n",
    "        #Se actualiza cada cluster; se comprueba si ha cambiado el centroide\n",
    "        converged = True\n",
    "        for i in range(len(clusters)):\n",
    "            if clusters[i].update(newClusters[i]) > 0.0:\n",
    "                converged = False\n",
    "        if verbose:\n",
    "            print(\"Iteration #\" + str(numIterations))\n",
    "            for c in clusters:\n",
    "                print(c)\n",
    "            print('') #añade una línea en blanco\n",
    "    return clusters\n"
   ]
  },
  {
   "cell_type": "code",
   "execution_count": 6,
   "metadata": {
    "collapsed": true
   },
   "outputs": [],
   "source": [
    "def dissimilarity(clusters):\n",
    "    \"\"\"Se calcula la cohesion intracluster mediante una suma de la varianza de todos los elementos\n",
    "    en el cluster con respecto al centroide\"\"\"\n",
    "    totDist = 0.0\n",
    "    for c in clusters:\n",
    "        totDist += c.variance()\n",
    "    return totDist\n",
    "    \n",
    "def trykmeans(examples, exampleType, numClusters, numTrials,\n",
    "              verbose = False):\n",
    "    \"\"\"Llama a kmeans numTrials veces y devuelve el resultado con la menor disimilaridad\"\"\"\n",
    "    best = kmeans(examples, exampleType, numClusters, verbose)\n",
    "    minDissimilarity = dissimilarity(best)\n",
    "    for trial in range(1, numTrials):\n",
    "        clusters = kmeans(examples, exampleType, numClusters, verbose)\n",
    "        currDissimilarity = dissimilarity(clusters)\n",
    "        if currDissimilarity < minDissimilarity:\n",
    "            best = clusters\n",
    "            minDissimilarity = currDissimilarity\n",
    "    return best\n"
   ]
  },
  {
   "cell_type": "code",
   "execution_count": 10,
   "metadata": {
    "collapsed": true
   },
   "outputs": [],
   "source": [
    "def genDistribution(xMean, xSD, yMean, ySD, n, namePrefix):\n",
    "    samples = []\n",
    "    for s in range(n):\n",
    "        x = random.gauss(xMean, xSD)\n",
    "        y = random.gauss(yMean, ySD)\n",
    "        samples.append(Example(namePrefix+str(s), [x, y]))\n",
    "    return samples\n",
    "\n",
    "def plotSamples(samples, marker):\n",
    "    xVals, yVals = [], []\n",
    "    for s in samples:\n",
    "        x = s.getFeatures()[0]\n",
    "        y = s.getFeatures()[1]\n",
    "        plt.annotate(s.getName(), xy = (x, y),\n",
    "                       xytext = (x+0.13, y-0.07),\n",
    "                       fontsize = 'x-large')\n",
    "        xVals.append(x)\n",
    "        yVals.append(y)\n",
    "    plt.plot(xVals, yVals, marker)\n",
    "\n",
    "def contrivedTest(numTrials, k, verbose):\n",
    "    random.seed(0)\n",
    "    xMean = 3\n",
    "    xSD = 1\n",
    "    yMean = 5\n",
    "    ySD = 1\n",
    "    n = 10\n",
    "    d1Samples = genDistribution(xMean, xSD, yMean, ySD, n, '1.')\n",
    "    plotSamples(d1Samples, 'b^')\n",
    "    d2Samples = genDistribution(xMean+3, xSD, yMean+1, ySD, n, '2.')\n",
    "    plotSamples(d2Samples, 'ro')\n",
    "    clusters = trykmeans(d1Samples + d2Samples, Example, k,\n",
    "                         numTrials, verbose)\n",
    "    print('Final result')\n",
    "    for c in clusters:\n",
    "        print c\n",
    "    print ''\n"
   ]
  },
  {
   "cell_type": "code",
   "execution_count": 12,
   "metadata": {},
   "outputs": [
    {
     "name": "stdout",
     "output_type": "stream",
     "text": [
      "Iteration #1\n",
      "Cluster con centroide [ 4.57800047  5.35921276] contiene:\n",
      "  1.0, 1.1, 1.2, 1.3, 1.4, 1.5, 1.6, 1.7, 1.8, 2.0, 2.1, 2.2, 2.3, 2.4, 2.5, 2.6, 2.7, 2.8, 2.9\n",
      "Cluster con centroide [ 3.79646584  2.99635148] contiene:\n",
      "  1.9\n",
      "\n",
      "Iteration #2\n",
      "Cluster con centroide [ 4.80105783  5.73986393] contiene:\n",
      "  1.1, 1.2, 1.4, 1.5, 1.6, 2.0, 2.1, 2.2, 2.3, 2.4, 2.5, 2.6, 2.7, 2.8, 2.9\n",
      "Cluster con centroide [ 3.75252146  3.74468698] contiene:\n",
      "  1.0, 1.3, 1.7, 1.8, 1.9\n",
      "\n",
      "Iteration #3\n",
      "Cluster con centroide [ 5.6388835   6.02296994] contiene:\n",
      "  1.6, 2.0, 2.1, 2.2, 2.3, 2.4, 2.5, 2.6, 2.7, 2.8, 2.9\n",
      "Cluster con centroide [ 3.19452848  4.28541384] contiene:\n",
      "  1.0, 1.1, 1.2, 1.3, 1.4, 1.5, 1.7, 1.8, 1.9\n",
      "\n",
      "Iteration #4\n",
      "Cluster con centroide [ 5.93613865  5.96069975] contiene:\n",
      "  2.0, 2.1, 2.2, 2.3, 2.4, 2.5, 2.6, 2.7, 2.8, 2.9\n",
      "Cluster con centroide [ 3.14170883  4.52143963] contiene:\n",
      "  1.0, 1.1, 1.2, 1.3, 1.4, 1.5, 1.6, 1.7, 1.8, 1.9\n",
      "\n",
      "Iteration #5\n",
      "Cluster con centroide [ 5.93613865  5.96069975] contiene:\n",
      "  2.0, 2.1, 2.2, 2.3, 2.4, 2.5, 2.6, 2.7, 2.8, 2.9\n",
      "Cluster con centroide [ 3.14170883  4.52143963] contiene:\n",
      "  1.0, 1.1, 1.2, 1.3, 1.4, 1.5, 1.6, 1.7, 1.8, 1.9\n",
      "\n",
      "Final result\n",
      "Cluster con centroide [ 5.93613865  5.96069975] contiene:\n",
      "  2.0, 2.1, 2.2, 2.3, 2.4, 2.5, 2.6, 2.7, 2.8, 2.9\n",
      "Cluster con centroide [ 3.14170883  4.52143963] contiene:\n",
      "  1.0, 1.1, 1.2, 1.3, 1.4, 1.5, 1.6, 1.7, 1.8, 1.9\n",
      "\n"
     ]
    },
    {
     "data": {
      "image/png": "[encoded data removed]",
      "text/plain": [
       "<matplotlib.figure.Figure at 0x7f2deccc1b10>"
      ]
     },
     "metadata": {},
     "output_type": "display_data"
    }
   ],
   "source": [
    "contrivedTest(1,2,True)"
   ]
  },
  {
   "cell_type": "code",
   "execution_count": null,
   "metadata": {
    "collapsed": true
   },
   "outputs": [],
   "source": []
  }
 ],
 "metadata": {
  "kernelspec": {
   "display_name": "Python 3",
   "language": "python",
   "name": "python3"
  },
  "language_info": {
   "codemirror_mode": {
    "name": "ipython",
    "version": 3
   },
   "file_extension": ".py",
   "mimetype": "text/x-python",
   "name": "python",
   "nbconvert_exporter": "python",
   "pygments_lexer": "ipython3",
   "version": "3.7.3"
  }
 },
 "nbformat": 4,
 "nbformat_minor": 1
}
