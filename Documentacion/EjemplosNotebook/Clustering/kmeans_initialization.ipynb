{
 "cells": [
  {
   "cell_type": "markdown",
   "metadata": {},
   "source": [
    "# Example extracted from http://scikit-learn.org/stable/auto_examples/cluster/plot_kmeans_stability_low_dim_dense.html#example-cluster-plot-kmeans-stability-low-dim-dense-py\n",
    "\n",
    "Referencia:\n",
    "http://ilpubs.stanford.edu:8090/778/1/2006-13.pdf"
   ]
  },
  {
   "cell_type": "markdown",
   "metadata": {},
   "source": [
    "**First, we import all the packages we are going to need**"
   ]
  },
  {
   "cell_type": "code",
   "execution_count": 9,
   "metadata": {
    "collapsed": false
   },
   "outputs": [],
   "source": [
    "import numpy as np\n",
    "%matplotlib inline\n",
    "import matplotlib.pyplot as plt\n",
    "import matplotlib.cm as cm\n",
    "\n",
    "from sklearn.utils import shuffle\n",
    "from sklearn.utils import check_random_state\n",
    "from sklearn.cluster import KMeans\n"
   ]
  },
  {
   "cell_type": "code",
   "execution_count": 10,
   "metadata": {
    "collapsed": true
   },
   "outputs": [],
   "source": [
    "random_state = np.random.RandomState(0)"
   ]
  },
  {
   "cell_type": "code",
   "execution_count": 11,
   "metadata": {
    "collapsed": true
   },
   "outputs": [],
   "source": [
    "n_runs = 5\n",
    "n_init_range = np.array([1, 5, 10, 15, 20])"
   ]
  },
  {
   "cell_type": "markdown",
   "metadata": {},
   "source": [
    "**Now we are going to generate the data for the example**"
   ]
  },
  {
   "cell_type": "code",
   "execution_count": 12,
   "metadata": {
    "collapsed": true
   },
   "outputs": [],
   "source": [
    "n_samples_per_center = 100\n",
    "grid_size = 3\n",
    "scale = 0.1\n",
    "n_clusters = grid_size ** 2"
   ]
  },
  {
   "cell_type": "markdown",
   "metadata": {},
   "source": [
    "**The following function just generate de data to be clustered. Fist, the centers are select as all the pairs  $(i,j)$ for $0<i,j<2$. Second, noise is added to such centers to generate the \"real\" data.**"
   ]
  },
  {
   "cell_type": "code",
   "execution_count": 13,
   "metadata": {
    "collapsed": false
   },
   "outputs": [],
   "source": [
    "def make_data(random_state, n_samples_per_center, grid_size, scale):\n",
    "    random_state = check_random_state(random_state)\n",
    "    centers = np.array([[i, j]\n",
    "                        for i in range(grid_size)\n",
    "                        for j in range(grid_size)])\n",
    "    n_clusters_true, n_features = centers.shape\n",
    "\n",
    "    noise = random_state.normal(\n",
    "        scale=scale, size=(n_samples_per_center, centers.shape[1]))\n",
    "    \n",
    "\n",
    "    X = np.concatenate([c + noise for c in centers])\n",
    "    y = np.concatenate([[i] * n_samples_per_center\n",
    "                        for i in range(n_clusters_true)])\n",
    "    \n",
    "    return shuffle(X, y, random_state=random_state)"
   ]
  },
  {
   "cell_type": "code",
   "execution_count": 14,
   "metadata": {
    "collapsed": true
   },
   "outputs": [],
   "source": [
    "plots = []\n",
    "legends = []\n",
    "\n",
    "cases = [\n",
    "    (KMeans, 'k-means++'),\n",
    "    (KMeans, 'random'),\n",
    "]"
   ]
  },
  {
   "cell_type": "code",
   "execution_count": 15,
   "metadata": {
    "collapsed": false
   },
   "outputs": [
    {
     "name": "stdout",
     "output_type": "stream",
     "text": [
      "Evaluation of KMeans with k-means++ init\n",
      "Evaluation of KMeans with random init\n"
     ]
    },
    {
     "data": {
      "image/png": "[encoded data removed]",
      "text/plain": [
       "<matplotlib.figure.Figure at 0x7f0d9c4e82d0>"
      ]
     },
     "metadata": {},
     "output_type": "display_data"
    }
   ],
   "source": [
    "for factory, init in cases:\n",
    "    print(\"Evaluation of %s with %s init\" % (factory.__name__, init))\n",
    "    inertia = np.empty((len(n_init_range), n_runs))\n",
    "\n",
    "    for run_id in range(n_runs):\n",
    "        X, y = make_data(run_id, n_samples_per_center, grid_size, scale)\n",
    "        for i, n_init in enumerate(n_init_range):\n",
    "            km = factory(n_clusters=n_clusters, init=init, random_state=run_id,\n",
    "                         n_init=n_init).fit(X)\n",
    "            inertia[i, run_id] = km.inertia_\n",
    "    p = plt.errorbar(n_init_range, inertia.mean(axis=1), inertia.std(axis=1))\n",
    "    plots.append(p[0])\n",
    "    legends.append(\"%s with %s init\" % (factory.__name__, init))\n",
    "    plt.xlabel('n_init')\n",
    "    plt.ylabel('inertia')\n",
    "    plt.legend(plots, legends)\n",
    "    plt.title(\"Mean inertia for various k-means init across %d runs\" % n_runs)"
   ]
  },
  {
   "cell_type": "markdown",
   "metadata": {},
   "source": [
    "**where the inertia, or within-cluster sum of squared criterion is given by**\n",
    "$$\n",
    "    \\sum_{i=0}^{n}\\min_{\\mu_j \\in C}(||x_j - \\mu_i||^2)\n",
    "$$ \n"
   ]
  },
  {
   "cell_type": "code",
   "execution_count": null,
   "metadata": {
    "collapsed": true
   },
   "outputs": [],
   "source": []
  }
 ],
 "metadata": {
  "kernelspec": {
   "display_name": "Python 2",
   "language": "python",
   "name": "python2"
  },
  "language_info": {
   "codemirror_mode": {
    "name": "ipython",
    "version": 2
   },
   "file_extension": ".py",
   "mimetype": "text/x-python",
   "name": "python",
   "nbconvert_exporter": "python",
   "pygments_lexer": "ipython2",
   "version": "2.7.12"
  }
 },
 "nbformat": 4,
 "nbformat_minor": 0
}
